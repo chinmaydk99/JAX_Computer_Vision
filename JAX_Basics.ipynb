{
  "nbformat": 4,
  "nbformat_minor": 0,
  "metadata": {
    "colab": {
      "provenance": [],
      "gpuType": "T4"
    },
    "kernelspec": {
      "name": "python3",
      "display_name": "Python 3"
    },
    "language_info": {
      "name": "python"
    },
    "accelerator": "GPU",
    "widgets": {
      "application/vnd.jupyter.widget-state+json": {
        "56df725713f146a3bee68ebb40925a55": {
          "model_module": "@jupyter-widgets/controls",
          "model_name": "HBoxModel",
          "model_module_version": "1.5.0",
          "state": {
            "_dom_classes": [],
            "_model_module": "@jupyter-widgets/controls",
            "_model_module_version": "1.5.0",
            "_model_name": "HBoxModel",
            "_view_count": null,
            "_view_module": "@jupyter-widgets/controls",
            "_view_module_version": "1.5.0",
            "_view_name": "HBoxView",
            "box_style": "",
            "children": [
              "IPY_MODEL_cb1807119e544dfc8a111a10e6a39b72",
              "IPY_MODEL_14fe99ccca2b4d06a0a9ee4858e740a1",
              "IPY_MODEL_207a144e238d47c1adf2ad0c6508b343"
            ],
            "layout": "IPY_MODEL_70777c41f69d4f4198842ad9883a9ac1"
          }
        },
        "cb1807119e544dfc8a111a10e6a39b72": {
          "model_module": "@jupyter-widgets/controls",
          "model_name": "HTMLModel",
          "model_module_version": "1.5.0",
          "state": {
            "_dom_classes": [],
            "_model_module": "@jupyter-widgets/controls",
            "_model_module_version": "1.5.0",
            "_model_name": "HTMLModel",
            "_view_count": null,
            "_view_module": "@jupyter-widgets/controls",
            "_view_module_version": "1.5.0",
            "_view_name": "HTMLView",
            "description": "",
            "description_tooltip": null,
            "layout": "IPY_MODEL_11200ff54c7d447898c291d3004ea87f",
            "placeholder": "​",
            "style": "IPY_MODEL_eefe1e7f45414135a24f7124ae62c47e",
            "value": "100%"
          }
        },
        "14fe99ccca2b4d06a0a9ee4858e740a1": {
          "model_module": "@jupyter-widgets/controls",
          "model_name": "FloatProgressModel",
          "model_module_version": "1.5.0",
          "state": {
            "_dom_classes": [],
            "_model_module": "@jupyter-widgets/controls",
            "_model_module_version": "1.5.0",
            "_model_name": "FloatProgressModel",
            "_view_count": null,
            "_view_module": "@jupyter-widgets/controls",
            "_view_module_version": "1.5.0",
            "_view_name": "ProgressView",
            "bar_style": "success",
            "description": "",
            "description_tooltip": null,
            "layout": "IPY_MODEL_e4fa9dc6d5f44fb0a90895932df7f0b0",
            "max": 100,
            "min": 0,
            "orientation": "horizontal",
            "style": "IPY_MODEL_fd6e1dcb50b34517bbb3639c64d2fe1e",
            "value": 100
          }
        },
        "207a144e238d47c1adf2ad0c6508b343": {
          "model_module": "@jupyter-widgets/controls",
          "model_name": "HTMLModel",
          "model_module_version": "1.5.0",
          "state": {
            "_dom_classes": [],
            "_model_module": "@jupyter-widgets/controls",
            "_model_module_version": "1.5.0",
            "_model_name": "HTMLModel",
            "_view_count": null,
            "_view_module": "@jupyter-widgets/controls",
            "_view_module_version": "1.5.0",
            "_view_name": "HTMLView",
            "description": "",
            "description_tooltip": null,
            "layout": "IPY_MODEL_c39ced5eea0a46a98ecca509c007f19f",
            "placeholder": "​",
            "style": "IPY_MODEL_1ddcac20c70447b4ba5d9e0f95839236",
            "value": " 100/100 [00:02&lt;00:00, 65.34it/s]"
          }
        },
        "70777c41f69d4f4198842ad9883a9ac1": {
          "model_module": "@jupyter-widgets/base",
          "model_name": "LayoutModel",
          "model_module_version": "1.2.0",
          "state": {
            "_model_module": "@jupyter-widgets/base",
            "_model_module_version": "1.2.0",
            "_model_name": "LayoutModel",
            "_view_count": null,
            "_view_module": "@jupyter-widgets/base",
            "_view_module_version": "1.2.0",
            "_view_name": "LayoutView",
            "align_content": null,
            "align_items": null,
            "align_self": null,
            "border": null,
            "bottom": null,
            "display": null,
            "flex": null,
            "flex_flow": null,
            "grid_area": null,
            "grid_auto_columns": null,
            "grid_auto_flow": null,
            "grid_auto_rows": null,
            "grid_column": null,
            "grid_gap": null,
            "grid_row": null,
            "grid_template_areas": null,
            "grid_template_columns": null,
            "grid_template_rows": null,
            "height": null,
            "justify_content": null,
            "justify_items": null,
            "left": null,
            "margin": null,
            "max_height": null,
            "max_width": null,
            "min_height": null,
            "min_width": null,
            "object_fit": null,
            "object_position": null,
            "order": null,
            "overflow": null,
            "overflow_x": null,
            "overflow_y": null,
            "padding": null,
            "right": null,
            "top": null,
            "visibility": null,
            "width": null
          }
        },
        "11200ff54c7d447898c291d3004ea87f": {
          "model_module": "@jupyter-widgets/base",
          "model_name": "LayoutModel",
          "model_module_version": "1.2.0",
          "state": {
            "_model_module": "@jupyter-widgets/base",
            "_model_module_version": "1.2.0",
            "_model_name": "LayoutModel",
            "_view_count": null,
            "_view_module": "@jupyter-widgets/base",
            "_view_module_version": "1.2.0",
            "_view_name": "LayoutView",
            "align_content": null,
            "align_items": null,
            "align_self": null,
            "border": null,
            "bottom": null,
            "display": null,
            "flex": null,
            "flex_flow": null,
            "grid_area": null,
            "grid_auto_columns": null,
            "grid_auto_flow": null,
            "grid_auto_rows": null,
            "grid_column": null,
            "grid_gap": null,
            "grid_row": null,
            "grid_template_areas": null,
            "grid_template_columns": null,
            "grid_template_rows": null,
            "height": null,
            "justify_content": null,
            "justify_items": null,
            "left": null,
            "margin": null,
            "max_height": null,
            "max_width": null,
            "min_height": null,
            "min_width": null,
            "object_fit": null,
            "object_position": null,
            "order": null,
            "overflow": null,
            "overflow_x": null,
            "overflow_y": null,
            "padding": null,
            "right": null,
            "top": null,
            "visibility": null,
            "width": null
          }
        },
        "eefe1e7f45414135a24f7124ae62c47e": {
          "model_module": "@jupyter-widgets/controls",
          "model_name": "DescriptionStyleModel",
          "model_module_version": "1.5.0",
          "state": {
            "_model_module": "@jupyter-widgets/controls",
            "_model_module_version": "1.5.0",
            "_model_name": "DescriptionStyleModel",
            "_view_count": null,
            "_view_module": "@jupyter-widgets/base",
            "_view_module_version": "1.2.0",
            "_view_name": "StyleView",
            "description_width": ""
          }
        },
        "e4fa9dc6d5f44fb0a90895932df7f0b0": {
          "model_module": "@jupyter-widgets/base",
          "model_name": "LayoutModel",
          "model_module_version": "1.2.0",
          "state": {
            "_model_module": "@jupyter-widgets/base",
            "_model_module_version": "1.2.0",
            "_model_name": "LayoutModel",
            "_view_count": null,
            "_view_module": "@jupyter-widgets/base",
            "_view_module_version": "1.2.0",
            "_view_name": "LayoutView",
            "align_content": null,
            "align_items": null,
            "align_self": null,
            "border": null,
            "bottom": null,
            "display": null,
            "flex": null,
            "flex_flow": null,
            "grid_area": null,
            "grid_auto_columns": null,
            "grid_auto_flow": null,
            "grid_auto_rows": null,
            "grid_column": null,
            "grid_gap": null,
            "grid_row": null,
            "grid_template_areas": null,
            "grid_template_columns": null,
            "grid_template_rows": null,
            "height": null,
            "justify_content": null,
            "justify_items": null,
            "left": null,
            "margin": null,
            "max_height": null,
            "max_width": null,
            "min_height": null,
            "min_width": null,
            "object_fit": null,
            "object_position": null,
            "order": null,
            "overflow": null,
            "overflow_x": null,
            "overflow_y": null,
            "padding": null,
            "right": null,
            "top": null,
            "visibility": null,
            "width": null
          }
        },
        "fd6e1dcb50b34517bbb3639c64d2fe1e": {
          "model_module": "@jupyter-widgets/controls",
          "model_name": "ProgressStyleModel",
          "model_module_version": "1.5.0",
          "state": {
            "_model_module": "@jupyter-widgets/controls",
            "_model_module_version": "1.5.0",
            "_model_name": "ProgressStyleModel",
            "_view_count": null,
            "_view_module": "@jupyter-widgets/base",
            "_view_module_version": "1.2.0",
            "_view_name": "StyleView",
            "bar_color": null,
            "description_width": ""
          }
        },
        "c39ced5eea0a46a98ecca509c007f19f": {
          "model_module": "@jupyter-widgets/base",
          "model_name": "LayoutModel",
          "model_module_version": "1.2.0",
          "state": {
            "_model_module": "@jupyter-widgets/base",
            "_model_module_version": "1.2.0",
            "_model_name": "LayoutModel",
            "_view_count": null,
            "_view_module": "@jupyter-widgets/base",
            "_view_module_version": "1.2.0",
            "_view_name": "LayoutView",
            "align_content": null,
            "align_items": null,
            "align_self": null,
            "border": null,
            "bottom": null,
            "display": null,
            "flex": null,
            "flex_flow": null,
            "grid_area": null,
            "grid_auto_columns": null,
            "grid_auto_flow": null,
            "grid_auto_rows": null,
            "grid_column": null,
            "grid_gap": null,
            "grid_row": null,
            "grid_template_areas": null,
            "grid_template_columns": null,
            "grid_template_rows": null,
            "height": null,
            "justify_content": null,
            "justify_items": null,
            "left": null,
            "margin": null,
            "max_height": null,
            "max_width": null,
            "min_height": null,
            "min_width": null,
            "object_fit": null,
            "object_position": null,
            "order": null,
            "overflow": null,
            "overflow_x": null,
            "overflow_y": null,
            "padding": null,
            "right": null,
            "top": null,
            "visibility": null,
            "width": null
          }
        },
        "1ddcac20c70447b4ba5d9e0f95839236": {
          "model_module": "@jupyter-widgets/controls",
          "model_name": "DescriptionStyleModel",
          "model_module_version": "1.5.0",
          "state": {
            "_model_module": "@jupyter-widgets/controls",
            "_model_module_version": "1.5.0",
            "_model_name": "DescriptionStyleModel",
            "_view_count": null,
            "_view_module": "@jupyter-widgets/base",
            "_view_module_version": "1.2.0",
            "_view_name": "StyleView",
            "description_width": ""
          }
        }
      }
    }
  },
  "cells": [
    {
      "cell_type": "markdown",
      "source": [
        "### Why JAX?\n",
        "- faster compared to other deep learning frameworks\n",
        "- This is done via just-in-time compiling\n",
        "\n",
        "Rules for jit\n",
        "- No side effects: In place updates are forbidden\n",
        "- Needs to know the size of every tensor up-front so that it can allocate buffers and fuse operations"
      ],
      "metadata": {
        "id": "akksBhy8GHiN"
      }
    },
    {
      "cell_type": "code",
      "execution_count": 14,
      "metadata": {
        "colab": {
          "base_uri": "https://localhost:8080/"
        },
        "id": "I14CECENFgJT",
        "outputId": "4ed3208b-62b6-48cc-e9b5-c7c1b2629670"
      },
      "outputs": [
        {
          "output_type": "stream",
          "name": "stderr",
          "text": [
            "/tmp/ipython-input-14-2052077244.py:11: DeprecationWarning: `set_matplotlib_formats` is deprecated since IPython 7.23, directly use `matplotlib_inline.backend_inline.set_matplotlib_formats()`\n",
            "  set_matplotlib_formats('svg', 'pdf') # For export\n"
          ]
        }
      ],
      "source": [
        "## Standard libraries\n",
        "import os\n",
        "import math\n",
        "import numpy as np\n",
        "import time\n",
        "\n",
        "## Imports for plotting\n",
        "import matplotlib.pyplot as plt\n",
        "%matplotlib inline\n",
        "from IPython.display import set_matplotlib_formats\n",
        "set_matplotlib_formats('svg', 'pdf') # For export\n",
        "from matplotlib.colors import to_rgba\n",
        "import seaborn as sns\n",
        "sns.set()\n",
        "\n",
        "## Progress bar\n",
        "from tqdm.auto import tqdm"
      ]
    },
    {
      "cell_type": "markdown",
      "source": [
        "torch tensors -> JAX numpy like vectors"
      ],
      "metadata": {
        "id": "u-tqS7ETHVp0"
      }
    },
    {
      "cell_type": "code",
      "source": [
        "import jax\n",
        "import jax.numpy as jnp\n",
        "print(\"Using jax\", jax.__version__)"
      ],
      "metadata": {
        "colab": {
          "base_uri": "https://localhost:8080/"
        },
        "id": "9qb3XR2NHLWj",
        "outputId": "5e6fd620-9826-4e28-b6a0-795825561298"
      },
      "execution_count": 15,
      "outputs": [
        {
          "output_type": "stream",
          "name": "stdout",
          "text": [
            "Using jax 0.5.2\n"
          ]
        }
      ]
    },
    {
      "cell_type": "code",
      "source": [
        "a = jnp.zeros((4,3), dtype = jnp.float32)\n",
        "a"
      ],
      "metadata": {
        "colab": {
          "base_uri": "https://localhost:8080/"
        },
        "id": "ZrrXV8VvHe5a",
        "outputId": "ff12dffc-bd4f-477b-82b1-d0a140517c09"
      },
      "execution_count": 16,
      "outputs": [
        {
          "output_type": "execute_result",
          "data": {
            "text/plain": [
              "Array([[0., 0., 0.],\n",
              "       [0., 0., 0.],\n",
              "       [0., 0., 0.],\n",
              "       [0., 0., 0.]], dtype=float32)"
            ]
          },
          "metadata": {},
          "execution_count": 16
        }
      ]
    },
    {
      "cell_type": "code",
      "source": [
        "b = jnp.arange(6)\n",
        "print(b)"
      ],
      "metadata": {
        "colab": {
          "base_uri": "https://localhost:8080/"
        },
        "id": "LWm1zxP2HlpN",
        "outputId": "f62d952d-8100-4727-9ab9-48ae5995f339"
      },
      "execution_count": 17,
      "outputs": [
        {
          "output_type": "stream",
          "name": "stdout",
          "text": [
            "[0 1 2 3 4 5]\n"
          ]
        }
      ]
    },
    {
      "cell_type": "code",
      "source": [
        "b.__class__"
      ],
      "metadata": {
        "colab": {
          "base_uri": "https://localhost:8080/"
        },
        "id": "oydxv5u5HpGt",
        "outputId": "3616ad23-3ee1-4360-ce95-d2f656ca1c3c"
      },
      "execution_count": 18,
      "outputs": [
        {
          "output_type": "execute_result",
          "data": {
            "text/plain": [
              "jaxlib.xla_extension.ArrayImpl"
            ]
          },
          "metadata": {},
          "execution_count": 18
        }
      ]
    },
    {
      "cell_type": "markdown",
      "source": [
        "Vectors can natively run on GPU althought we didnt explicitly specify it as we do with Pytorch"
      ],
      "metadata": {
        "id": "dxabkePlH3eL"
      }
    },
    {
      "cell_type": "code",
      "source": [
        "b.device"
      ],
      "metadata": {
        "colab": {
          "base_uri": "https://localhost:8080/"
        },
        "id": "uFbxuJfaHsqU",
        "outputId": "c90d7845-d2b0-4e7c-b49a-6f0cfee57b79"
      },
      "execution_count": 19,
      "outputs": [
        {
          "output_type": "execute_result",
          "data": {
            "text/plain": [
              "CudaDevice(id=0)"
            ]
          },
          "metadata": {},
          "execution_count": 19
        }
      ]
    },
    {
      "cell_type": "markdown",
      "source": [
        "device_get(vector) - change device"
      ],
      "metadata": {
        "id": "AM3CMsdXIHQk"
      }
    },
    {
      "cell_type": "code",
      "source": [
        "b_cpu = jax.device_get(b)\n",
        "print(b_cpu.__class__)"
      ],
      "metadata": {
        "colab": {
          "base_uri": "https://localhost:8080/"
        },
        "id": "UMdfBVBgHx8y",
        "outputId": "837a1a5f-85e4-4715-e052-ac60ed7bc707"
      },
      "execution_count": 20,
      "outputs": [
        {
          "output_type": "stream",
          "name": "stdout",
          "text": [
            "<class 'numpy.ndarray'>\n"
          ]
        }
      ]
    },
    {
      "cell_type": "markdown",
      "source": [
        "device_put(a) - push vector into accelerator"
      ],
      "metadata": {
        "id": "EwlhWm5dIOMb"
      }
    },
    {
      "cell_type": "code",
      "source": [
        "b_gpu = jax.device_put(b_cpu)\n",
        "print(f'Device put: {b_gpu.__class__} on {b_gpu.device}')"
      ],
      "metadata": {
        "colab": {
          "base_uri": "https://localhost:8080/"
        },
        "id": "qr9lgvLoIACk",
        "outputId": "8b0dbb33-a242-4e14-9dbf-1cf74aec1080"
      },
      "execution_count": 21,
      "outputs": [
        {
          "output_type": "stream",
          "name": "stdout",
          "text": [
            "Device put: <class 'jaxlib.xla_extension.ArrayImpl'> on cuda:0\n"
          ]
        }
      ]
    },
    {
      "cell_type": "markdown",
      "source": [
        "Handles the device clas itself"
      ],
      "metadata": {
        "id": "AZZQFOwPIVhS"
      }
    },
    {
      "cell_type": "code",
      "source": [
        "b_cpu + b_gpu"
      ],
      "metadata": {
        "colab": {
          "base_uri": "https://localhost:8080/"
        },
        "id": "5JiJ-1ufIRdN",
        "outputId": "5a8a2103-e9f8-4bec-9551-8f95a1a4b504"
      },
      "execution_count": 22,
      "outputs": [
        {
          "output_type": "execute_result",
          "data": {
            "text/plain": [
              "Array([ 0,  2,  4,  6,  8, 10], dtype=int32)"
            ]
          },
          "metadata": {},
          "execution_count": 22
        }
      ]
    },
    {
      "cell_type": "code",
      "source": [
        "jax.devices()"
      ],
      "metadata": {
        "colab": {
          "base_uri": "https://localhost:8080/"
        },
        "id": "LIHl90S0IVA_",
        "outputId": "5fb60099-d107-4ae2-a558-aa484c85effc"
      },
      "execution_count": 23,
      "outputs": [
        {
          "output_type": "execute_result",
          "data": {
            "text/plain": [
              "[CudaDevice(id=0)]"
            ]
          },
          "metadata": {},
          "execution_count": 23
        }
      ]
    },
    {
      "cell_type": "markdown",
      "source": [
        "### Immutable tensors"
      ],
      "metadata": {
        "id": "bmWk5KurZWHa"
      }
    },
    {
      "cell_type": "markdown",
      "source": [
        "- DeviceArray object is immutable\n",
        "\n",
        "Instead we use `vector.at[index].set(value)` which returns a new array with the modified value\n"
      ],
      "metadata": {
        "id": "i1AQV9JlZcBp"
      }
    },
    {
      "cell_type": "code",
      "source": [
        "b_new = b.at[0].set(1)\n",
        "print('Original array:', b)\n",
        "print('Changed array:', b_new)"
      ],
      "metadata": {
        "colab": {
          "base_uri": "https://localhost:8080/"
        },
        "id": "yMXatB8EIY8e",
        "outputId": "36e93471-0b33-4c7a-817a-21f8b75462d3"
      },
      "execution_count": 24,
      "outputs": [
        {
          "output_type": "stream",
          "name": "stdout",
          "text": [
            "Original array: [0 1 2 3 4 5]\n",
            "Changed array: [1 1 2 3 4 5]\n"
          ]
        }
      ]
    },
    {
      "cell_type": "markdown",
      "source": [
        "### Random number generation"
      ],
      "metadata": {
        "id": "wkF3TdtPayXo"
      }
    },
    {
      "cell_type": "code",
      "source": [
        "rng = jax.random.PRNGKey(42)"
      ],
      "metadata": {
        "id": "0o6Jr6ooZtik"
      },
      "execution_count": 25,
      "outputs": []
    },
    {
      "cell_type": "code",
      "source": [
        "jax_random_number_1 = jax.random.normal(rng)\n",
        "jax_random_number_2 = jax.random.normal(rng)\n",
        "print('JAX - Random number 1:', jax_random_number_1)\n",
        "print('JAX - Random number 2:', jax_random_number_2)\n",
        "\n",
        "# Typical random numbers in NumPy\n",
        "np.random.seed(42)\n",
        "np_random_number_1 = np.random.normal()\n",
        "np_random_number_2 = np.random.normal()\n",
        "print('NumPy - Random number 1:', np_random_number_1)\n",
        "print('NumPy - Random number 2:', np_random_number_2)"
      ],
      "metadata": {
        "colab": {
          "base_uri": "https://localhost:8080/"
        },
        "id": "8cY4DQqGa2ZX",
        "outputId": "18ecae07-e282-4391-9bcb-d1e7e9a4d64d"
      },
      "execution_count": 26,
      "outputs": [
        {
          "output_type": "stream",
          "name": "stdout",
          "text": [
            "JAX - Random number 1: -0.028304616\n",
            "JAX - Random number 2: -0.028304616\n",
            "NumPy - Random number 1: 0.4967141530112327\n",
            "NumPy - Random number 2: -0.13826430117118466\n"
          ]
        }
      ]
    },
    {
      "cell_type": "markdown",
      "source": [
        "Splitting PRNG state to get subkeys everytime we need a new pseudo random number"
      ],
      "metadata": {
        "id": "jHU_JnjlbHqJ"
      }
    },
    {
      "cell_type": "code",
      "source": [
        "rng, subkey1, subkey2 = jax.random.split(rng, num=3)  # We create 3 new keys\n",
        "jax_random_number_1 = jax.random.normal(subkey1)\n",
        "jax_random_number_2 = jax.random.normal(subkey2)\n",
        "print('JAX new - Random number 1:', jax_random_number_1)\n",
        "print('JAX new - Random number 2:', jax_random_number_2)"
      ],
      "metadata": {
        "colab": {
          "base_uri": "https://localhost:8080/"
        },
        "id": "ntCkBfAFa8re",
        "outputId": "7e5b0f0e-79d0-4e46-95f2-a6d7674b1a3c"
      },
      "execution_count": 29,
      "outputs": [
        {
          "output_type": "stream",
          "name": "stdout",
          "text": [
            "JAX new - Random number 1: -0.39489815\n",
            "JAX new - Random number 2: 0.28066227\n"
          ]
        }
      ]
    },
    {
      "cell_type": "markdown",
      "source": [
        "### Function transformations with Jaxpr"
      ],
      "metadata": {
        "id": "FWcNLv3_bubg"
      }
    },
    {
      "cell_type": "code",
      "source": [
        "def simple_graph(x):\n",
        "    x = x + 2\n",
        "    x = x ** 2\n",
        "    x = x + 3\n",
        "    y = x.mean()\n",
        "    return y\n",
        "\n",
        "inp = jnp.arange(3, dtype=jnp.float32)\n",
        "print('Input', inp)\n",
        "print('Output', simple_graph(inp))"
      ],
      "metadata": {
        "colab": {
          "base_uri": "https://localhost:8080/"
        },
        "id": "PIwLCW4DbG7N",
        "outputId": "1bd81ff5-9582-42f5-8515-950d80f4a489"
      },
      "execution_count": 30,
      "outputs": [
        {
          "output_type": "stream",
          "name": "stdout",
          "text": [
            "Input [0. 1. 2.]\n",
            "Output 12.666667\n"
          ]
        }
      ]
    },
    {
      "cell_type": "code",
      "source": [
        "jax.make_jaxpr(simple_graph)(inp)"
      ],
      "metadata": {
        "colab": {
          "base_uri": "https://localhost:8080/"
        },
        "id": "EaSJQpyoeCtk",
        "outputId": "1e3c1aa7-b76e-4a25-d97e-79ddb88004d3"
      },
      "execution_count": 31,
      "outputs": [
        {
          "output_type": "execute_result",
          "data": {
            "text/plain": [
              "{ lambda ; a:f32[3]. let\n",
              "    b:f32[3] = add a 2.0\n",
              "    c:f32[3] = integer_pow[y=2] b\n",
              "    d:f32[3] = add c 3.0\n",
              "    e:f32[] = reduce_sum[axes=(0,)] d\n",
              "    f:f32[] = div e 3.0\n",
              "  in (f,) }"
            ]
          },
          "metadata": {},
          "execution_count": 31
        }
      ]
    },
    {
      "cell_type": "code",
      "source": [
        "global_list = []\n",
        "def norm(x):\n",
        "    global_list.append(x) # This wont be included in the jaxpr\n",
        "    x = x ** 2\n",
        "    n = x.sum()\n",
        "    n = jnp.sqrt(n)\n",
        "    return n"
      ],
      "metadata": {
        "id": "vPh8uKR3edyj"
      },
      "execution_count": 36,
      "outputs": []
    },
    {
      "cell_type": "code",
      "source": [
        "jax.make_jaxpr(norm)(inp)"
      ],
      "metadata": {
        "colab": {
          "base_uri": "https://localhost:8080/"
        },
        "id": "ku1MrS8Hfux9",
        "outputId": "0d7088d2-d4e9-4dfd-e38d-42fd57f52a5c"
      },
      "execution_count": 37,
      "outputs": [
        {
          "output_type": "execute_result",
          "data": {
            "text/plain": [
              "{ lambda ; a:f32[3]. let\n",
              "    b:f32[3] = integer_pow[y=2] a\n",
              "    c:f32[] = reduce_sum[axes=(0,)] b\n",
              "    d:f32[] = sqrt c\n",
              "  in (d,) }"
            ]
          },
          "metadata": {},
          "execution_count": 37
        }
      ]
    },
    {
      "cell_type": "markdown",
      "source": [
        "### Automatic differentiation\n",
        "\n",
        "Takes as input the function and returns another function representing the gradient calculation of the input wrt output"
      ],
      "metadata": {
        "id": "gAVlPRLzf9cP"
      }
    },
    {
      "cell_type": "code",
      "source": [
        "grad_function = jax.grad(simple_graph)\n",
        "gradients = grad_function(inp)\n",
        "print('Gradient', gradients)"
      ],
      "metadata": {
        "colab": {
          "base_uri": "https://localhost:8080/"
        },
        "id": "qL1Z7U9Mfztd",
        "outputId": "d2af18b2-2f74-4eaf-b85c-5bb67faba243"
      },
      "execution_count": 38,
      "outputs": [
        {
          "output_type": "stream",
          "name": "stdout",
          "text": [
            "Gradient [1.3333334 2.        2.6666667]\n"
          ]
        }
      ]
    },
    {
      "cell_type": "code",
      "source": [
        "jax.make_jaxpr(grad_function)(inp)"
      ],
      "metadata": {
        "colab": {
          "base_uri": "https://localhost:8080/"
        },
        "id": "dVAiJyt_gQdN",
        "outputId": "b5b4afac-5ca2-425f-f62a-341edcee5563"
      },
      "execution_count": 39,
      "outputs": [
        {
          "output_type": "execute_result",
          "data": {
            "text/plain": [
              "{ lambda ; a:f32[3]. let\n",
              "    b:f32[3] = add a 2.0\n",
              "    c:f32[3] = integer_pow[y=2] b\n",
              "    d:f32[3] = integer_pow[y=1] b\n",
              "    e:f32[3] = mul 2.0 d\n",
              "    f:f32[3] = add c 3.0\n",
              "    g:f32[] = reduce_sum[axes=(0,)] f\n",
              "    _:f32[] = div g 3.0\n",
              "    h:f32[] = div 1.0 3.0\n",
              "    i:f32[3] = broadcast_in_dim[\n",
              "      broadcast_dimensions=()\n",
              "      shape=(3,)\n",
              "      sharding=None\n",
              "    ] h\n",
              "    j:f32[3] = mul i e\n",
              "  in (j,) }"
            ]
          },
          "metadata": {},
          "execution_count": 39
        }
      ]
    },
    {
      "cell_type": "markdown",
      "source": [
        "So we can use JAX not just to estimate gradients at a certain input value but actually return the analytical gradient function as well"
      ],
      "metadata": {
        "id": "wHGIrRI3gnP2"
      }
    },
    {
      "cell_type": "code",
      "source": [
        "val_grad_function = jax.value_and_grad(simple_graph)\n",
        "val_grad_function(inp)"
      ],
      "metadata": {
        "colab": {
          "base_uri": "https://localhost:8080/"
        },
        "id": "3It2zP7HgWRG",
        "outputId": "3d380ba4-a861-4a6a-c0a6-e70e0ff35342"
      },
      "execution_count": 40,
      "outputs": [
        {
          "output_type": "execute_result",
          "data": {
            "text/plain": [
              "(Array(12.666667, dtype=float32),\n",
              " Array([1.3333334, 2.       , 2.6666667], dtype=float32))"
            ]
          },
          "metadata": {},
          "execution_count": 40
        }
      ]
    },
    {
      "cell_type": "markdown",
      "source": [
        "### Just in time compilation\n",
        "\n",
        "Using XLA(accelerated linear algebra) to fuse operations to reduce execution time of short lived operations and eliminate intermediate storage buffers"
      ],
      "metadata": {
        "id": "TDeHedMWhIUw"
      }
    },
    {
      "cell_type": "code",
      "source": [
        "jitted_function = jax.jit(simple_graph)"
      ],
      "metadata": {
        "id": "QbhMAbMGg013"
      },
      "execution_count": 41,
      "outputs": []
    },
    {
      "cell_type": "code",
      "source": [
        "# Create a new random subkey for generating new random values\n",
        "rng, normal_rng = jax.random.split(rng)\n",
        "large_input = jax.random.normal(normal_rng, (1000,))\n",
        "# Run the jitted function once to start compilation\n",
        "_ = jitted_function(large_input)"
      ],
      "metadata": {
        "id": "-DVVGKVqhywm"
      },
      "execution_count": 42,
      "outputs": []
    },
    {
      "cell_type": "markdown",
      "source": [
        "`block_until_ready()` - Blocks python execution until accelerator finished computing the result"
      ],
      "metadata": {
        "id": "Kbufr86hiHiQ"
      }
    },
    {
      "cell_type": "code",
      "source": [
        "%%timeit\n",
        "simple_graph(large_input).block_until_ready()"
      ],
      "metadata": {
        "colab": {
          "base_uri": "https://localhost:8080/"
        },
        "id": "ZtRTkbZJh_Vh",
        "outputId": "431a0c56-545c-4717-e0bf-0e580b915d9f"
      },
      "execution_count": 43,
      "outputs": [
        {
          "output_type": "stream",
          "name": "stdout",
          "text": [
            "1.18 ms ± 294 µs per loop (mean ± std. dev. of 7 runs, 1000 loops each)\n"
          ]
        }
      ]
    },
    {
      "cell_type": "code",
      "source": [
        "%%timeit\n",
        "jitted_function(large_input).block_until_ready()"
      ],
      "metadata": {
        "colab": {
          "base_uri": "https://localhost:8080/"
        },
        "id": "9-g6JR35iG9B",
        "outputId": "0de1a1a4-426e-4629-e6b9-1d752671fa21"
      },
      "execution_count": 44,
      "outputs": [
        {
          "output_type": "stream",
          "name": "stdout",
          "text": [
            "127 µs ± 43.6 µs per loop (mean ± std. dev. of 7 runs, 1000 loops each)\n"
          ]
        }
      ]
    },
    {
      "cell_type": "code",
      "source": [
        "jitted_grad_function = jax.jit(grad_function)\n",
        "_ = jitted_grad_function(large_input)"
      ],
      "metadata": {
        "id": "BNHIvikAiQFa"
      },
      "execution_count": 45,
      "outputs": []
    },
    {
      "cell_type": "code",
      "source": [
        "%%timeit\n",
        "grad_function(large_input).block_until_ready()"
      ],
      "metadata": {
        "colab": {
          "base_uri": "https://localhost:8080/"
        },
        "id": "18CmWC9xiVmz",
        "outputId": "676bab6e-6105-44fc-f59f-db3fb246f9cf"
      },
      "execution_count": 46,
      "outputs": [
        {
          "output_type": "stream",
          "name": "stdout",
          "text": [
            "9.46 ms ± 1.36 ms per loop (mean ± std. dev. of 7 runs, 1 loop each)\n"
          ]
        }
      ]
    },
    {
      "cell_type": "code",
      "source": [
        "%%timeit\n",
        "jitted_grad_function(large_input).block_until_ready()"
      ],
      "metadata": {
        "colab": {
          "base_uri": "https://localhost:8080/"
        },
        "id": "1XNsfdfMiWtG",
        "outputId": "93df9cb1-19ce-4e2c-aded-619dbba5e45e"
      },
      "execution_count": 47,
      "outputs": [
        {
          "output_type": "stream",
          "name": "stdout",
          "text": [
            "120 µs ± 36.5 µs per loop (mean ± std. dev. of 7 runs, 10000 loops each)\n"
          ]
        }
      ]
    },
    {
      "cell_type": "markdown",
      "source": [
        "## Neural network with flax"
      ],
      "metadata": {
        "id": "kEnmBYPmi11f"
      }
    },
    {
      "cell_type": "code",
      "source": [
        "try:\n",
        "    import flax\n",
        "except ModuleNotFoundError: # Install flax if missing\n",
        "    !pip install --quiet flax\n",
        "    import flax\n",
        "\n",
        "from flax import linen as nn"
      ],
      "metadata": {
        "id": "eZ0PCQmKiXns"
      },
      "execution_count": 48,
      "outputs": []
    },
    {
      "cell_type": "markdown",
      "source": [
        "### Template"
      ],
      "metadata": {
        "id": "iPAYvZ8njxfn"
      }
    },
    {
      "cell_type": "code",
      "source": [
        "class MyModule(nn.Module):\n",
        "    # Some dataclass attributes, like hidden dimension, number of layers, etc. of the form:\n",
        "    # varname : vartype\n",
        "\n",
        "    def setup(self):\n",
        "        # Flax uses \"lazy\" initialization. This function is called once before you\n",
        "        # call the model, or try to access attributes. In here, define your submodules etc.\n",
        "        pass\n",
        "\n",
        "    def __call__(self, x):\n",
        "        # Function for performing the calculation of the module.\n",
        "        pass"
      ],
      "metadata": {
        "id": "pEjG1B99jL-J"
      },
      "execution_count": 50,
      "outputs": []
    },
    {
      "cell_type": "markdown",
      "source": [
        "### Linear Classifier"
      ],
      "metadata": {
        "id": "LGj7IOW8kIWa"
      }
    },
    {
      "cell_type": "code",
      "source": [
        "class SimpleClassifier(nn.Module):\n",
        "    num_hidden : int\n",
        "    num_outputs : int\n",
        "\n",
        "    def setup(self):\n",
        "        self.linear1 = nn.Dense(features=self.num_hidden)\n",
        "        self.linear2 = nn.Dense(features=self.num_outputs)\n",
        "\n",
        "    def __call__(self, x):\n",
        "        x = self.linear1(x)\n",
        "        x = nn.tanh(x)\n",
        "        x = self.linear2(x)\n",
        "        return x"
      ],
      "metadata": {
        "id": "--tFWU8djxB7"
      },
      "execution_count": 51,
      "outputs": []
    },
    {
      "cell_type": "markdown",
      "source": [
        "To reduce code overhead, we can use nn.compact"
      ],
      "metadata": {
        "id": "YJ1GBcdCkZem"
      }
    },
    {
      "cell_type": "code",
      "source": [
        "class SimpleClassifierCompact(nn.Module):\n",
        "    num_hidden : int\n",
        "    num_outputs : int\n",
        "\n",
        "    @nn.compact\n",
        "    def __call__(self, x):\n",
        "        x = nn.Dense(features=self.num_hidden)(x)\n",
        "        x = nn.tanh(x)\n",
        "        x = nn.Dense(features=self.num_outputs)(x)\n",
        "        return x"
      ],
      "metadata": {
        "id": "XH9dtZ06kVKB"
      },
      "execution_count": 52,
      "outputs": []
    },
    {
      "cell_type": "markdown",
      "source": [
        "This is stateless. Just a blueprint. Contains no actual weights or biases. The parameters are stored separately"
      ],
      "metadata": {
        "id": "Hq5pgN9_t370"
      }
    },
    {
      "cell_type": "code",
      "source": [
        "#Create model blueprint\n",
        "model = SimpleClassifier(num_hidden=8, num_outputs=1)\n",
        "print(model)\n",
        "\n",
        "# Create random key and some dummy input data\n",
        "rng, inp_rng, init_rng = jax.random.split(rng, 3)\n",
        "inp = jax.random.normal(inp_rng, (8, 2))\n",
        "\n",
        "# Initialize the parameters\n",
        "params = model.init(init_rng, inp)\n",
        "print(params)"
      ],
      "metadata": {
        "colab": {
          "base_uri": "https://localhost:8080/"
        },
        "id": "cKhPGsdvkiAy",
        "outputId": "08b93313-058d-4f8f-e477-b80e0ad405e3"
      },
      "execution_count": 54,
      "outputs": [
        {
          "output_type": "stream",
          "name": "stdout",
          "text": [
            "SimpleClassifier(\n",
            "    # attributes\n",
            "    num_hidden = 8\n",
            "    num_outputs = 1\n",
            ")\n"
          ]
        }
      ]
    },
    {
      "cell_type": "code",
      "source": [
        "model.apply(params, inp)"
      ],
      "metadata": {
        "colab": {
          "base_uri": "https://localhost:8080/"
        },
        "id": "o-irjrcjlE11",
        "outputId": "91e8b9b3-715f-4bbe-b416-7b727a8029c4"
      },
      "execution_count": 59,
      "outputs": [
        {
          "output_type": "execute_result",
          "data": {
            "text/plain": [
              "Array([[ 1.2068568 ],\n",
              "       [ 1.0254483 ],\n",
              "       [-0.7527007 ],\n",
              "       [-0.23369054],\n",
              "       [-0.63022786],\n",
              "       [-0.2956394 ],\n",
              "       [ 0.24335915],\n",
              "       [ 1.0070643 ]], dtype=float32)"
            ]
          },
          "metadata": {},
          "execution_count": 59
        }
      ]
    },
    {
      "cell_type": "markdown",
      "source": [
        "### Loading data"
      ],
      "metadata": {
        "id": "OmvFfIpbldb_"
      }
    },
    {
      "cell_type": "code",
      "source": [
        "import torch.utils.data as data"
      ],
      "metadata": {
        "id": "SbOWOEIVlYhs"
      },
      "execution_count": 60,
      "outputs": []
    },
    {
      "cell_type": "code",
      "source": [
        "class XORDataset(data.Dataset):\n",
        "\n",
        "    def __init__(self, size, seed, std=0.1):\n",
        "        \"\"\"\n",
        "        Inputs:\n",
        "            size - Number of data points we want to generate\n",
        "            seed - The seed to use to create the PRNG state with which we want to generate the data points\n",
        "            std - Standard deviation of the noise (see generate_continuous_xor function)\n",
        "        \"\"\"\n",
        "        super().__init__()\n",
        "        self.size = size\n",
        "        self.np_rng = np.random.RandomState(seed=seed)\n",
        "        self.std = std\n",
        "        self.generate_continuous_xor()\n",
        "\n",
        "    def generate_continuous_xor(self):\n",
        "        # Each data point in the XOR dataset has two variables, x and y, that can be either 0 or 1\n",
        "        # The label is their XOR combination, i.e. 1 if only x or only y is 1 while the other is 0.\n",
        "        # If x=y, the label is 0.\n",
        "        data = self.np_rng.randint(low=0, high=2, size=(self.size, 2)).astype(np.float32)\n",
        "        label = (data.sum(axis=1) == 1).astype(np.int32)\n",
        "        # To make it slightly more challenging, we add a bit of gaussian noise to the data points.\n",
        "        data += self.np_rng.normal(loc=0.0, scale=self.std, size=data.shape)\n",
        "\n",
        "        self.data = data\n",
        "        self.label = label\n",
        "\n",
        "    def __len__(self):\n",
        "        # Number of data point we have. Alternatively self.data.shape[0], or self.label.shape[0]\n",
        "        return self.size\n",
        "\n",
        "    def __getitem__(self, idx):\n",
        "        # Return the idx-th data point of the dataset\n",
        "        # If we have multiple things to return (data point and label), we can return them as tuple\n",
        "        data_point = self.data[idx]\n",
        "        data_label = self.label[idx]\n",
        "        return data_point, data_label"
      ],
      "metadata": {
        "id": "zXBzhgrhlgMg"
      },
      "execution_count": 61,
      "outputs": []
    },
    {
      "cell_type": "code",
      "source": [
        "dataset = XORDataset(size=200, seed=42)\n",
        "print(\"Size of dataset:\", len(dataset))\n",
        "print(\"Data point 0:\", dataset[0])"
      ],
      "metadata": {
        "colab": {
          "base_uri": "https://localhost:8080/"
        },
        "id": "kxhTURSRlvcP",
        "outputId": "6b1b8fc8-cf43-4591-b551-94007347ad42"
      },
      "execution_count": 62,
      "outputs": [
        {
          "output_type": "stream",
          "name": "stdout",
          "text": [
            "Size of dataset: 200\n",
            "Data point 0: (array([-0.06800247,  1.0232254 ], dtype=float32), np.int32(1))\n"
          ]
        }
      ]
    },
    {
      "cell_type": "code",
      "source": [
        "def visualize_samples(data, label):\n",
        "    data_0 = data[label == 0]\n",
        "    data_1 = data[label == 1]\n",
        "\n",
        "    plt.figure(figsize=(4,4))\n",
        "    plt.scatter(data_0[:,0], data_0[:,1], edgecolor=\"#333\", label=\"Class 0\")\n",
        "    plt.scatter(data_1[:,0], data_1[:,1], edgecolor=\"#333\", label=\"Class 1\")\n",
        "    plt.title(\"Dataset samples\")\n",
        "    plt.ylabel(r\"$x_2$\")\n",
        "    plt.xlabel(r\"$x_1$\")\n",
        "    plt.legend()"
      ],
      "metadata": {
        "id": "FPyQFbeYlz5O"
      },
      "execution_count": 63,
      "outputs": []
    },
    {
      "cell_type": "code",
      "source": [
        "visualize_samples(dataset.data, dataset.label)\n",
        "plt.show()"
      ],
      "metadata": {
        "colab": {
          "base_uri": "https://localhost:8080/",
          "height": 404
        },
        "id": "LIM88NRkl10a",
        "outputId": "7f9107fc-fa84-4b71-e86d-446d67e6307c"
      },
      "execution_count": 64,
      "outputs": [
        {
          "output_type": "display_data",
          "data": {
            "text/plain": [
              "<Figure size 400x400 with 1 Axes>"
            ],
            "image/svg+xml": "<?xml version=\"1.0\" encoding=\"utf-8\" standalone=\"no\"?>\n<!DOCTYPE svg PUBLIC \"-//W3C//DTD SVG 1.1//EN\"\n  \"http://www.w3.org/Graphics/SVG/1.1/DTD/svg11.dtd\">\n<svg xmlns:xlink=\"http://www.w3.org/1999/xlink\" width=\"289.424844pt\" height=\"287.037813pt\" viewBox=\"0 0 289.424844 287.037813\" xmlns=\"http://www.w3.org/2000/svg\" version=\"1.1\">\n <metadata>\n  <rdf:RDF xmlns:dc=\"http://purl.org/dc/elements/1.1/\" xmlns:cc=\"http://creativecommons.org/ns#\" xmlns:rdf=\"http://www.w3.org/1999/02/22-rdf-syntax-ns#\">\n   <cc:Work>\n    <dc:type rdf:resource=\"http://purl.org/dc/dcmitype/StillImage\"/>\n    <dc:date>2025-06-22T03:03:40.995225</dc:date>\n    <dc:format>image/svg+xml</dc:format>\n    <dc:creator>\n     <cc:Agent>\n      <dc:title>Matplotlib v3.10.0, https://matplotlib.org/</dc:title>\n     </cc:Agent>\n    </dc:creator>\n   </cc:Work>\n  </rdf:RDF>\n </metadata>\n <defs>\n  <style type=\"text/css\">*{stroke-linejoin: round; stroke-linecap: butt}</style>\n </defs>\n <g id=\"figure_1\">\n  <g id=\"patch_1\">\n   <path d=\"M 0 287.037813 \nL 289.424844 287.037813 \nL 289.424844 0 \nL 0 0 \nz\n\" style=\"fill: #ffffff\"/>\n  </g>\n  <g id=\"axes_1\">\n   <g id=\"patch_2\">\n    <path d=\"M 59.024844 244.078125 \nL 282.224844 244.078125 \nL 282.224844 22.318125 \nL 59.024844 22.318125 \nz\n\" style=\"fill: #eaeaf2\"/>\n   </g>\n   <g id=\"matplotlib.axis_1\">\n    <g id=\"xtick_1\">\n     <g id=\"line2d_1\">\n      <path d=\"M 98.338694 244.078125 \nL 98.338694 22.318125 \n\" clip-path=\"url(#pa889faaa17)\" style=\"fill: none; stroke: #ffffff; stroke-linecap: round\"/>\n     </g>\n     <g id=\"text_1\">\n      <!-- 0.0 -->\n      <g style=\"fill: #262626\" transform=\"translate(89.591975 261.936406) scale(0.11 -0.11)\">\n       <defs>\n        <path id=\"DejaVuSans-30\" d=\"M 2034 4250 \nQ 1547 4250 1301 3770 \nQ 1056 3291 1056 2328 \nQ 1056 1369 1301 889 \nQ 1547 409 2034 409 \nQ 2525 409 2770 889 \nQ 3016 1369 3016 2328 \nQ 3016 3291 2770 3770 \nQ 2525 4250 2034 4250 \nz\nM 2034 4750 \nQ 2819 4750 3233 4129 \nQ 3647 3509 3647 2328 \nQ 3647 1150 3233 529 \nQ 2819 -91 2034 -91 \nQ 1250 -91 836 529 \nQ 422 1150 422 2328 \nQ 422 3509 836 4129 \nQ 1250 4750 2034 4750 \nz\n\" transform=\"scale(0.015625)\"/>\n        <path id=\"DejaVuSans-2e\" d=\"M 684 794 \nL 1344 794 \nL 1344 0 \nL 684 0 \nL 684 794 \nz\n\" transform=\"scale(0.015625)\"/>\n       </defs>\n       <use xlink:href=\"#DejaVuSans-30\"/>\n       <use xlink:href=\"#DejaVuSans-2e\" transform=\"translate(63.623047 0)\"/>\n       <use xlink:href=\"#DejaVuSans-30\" transform=\"translate(95.410156 0)\"/>\n      </g>\n     </g>\n    </g>\n    <g id=\"xtick_2\">\n     <g id=\"line2d_2\">\n      <path d=\"M 168.880926 244.078125 \nL 168.880926 22.318125 \n\" clip-path=\"url(#pa889faaa17)\" style=\"fill: none; stroke: #ffffff; stroke-linecap: round\"/>\n     </g>\n     <g id=\"text_2\">\n      <!-- 0.5 -->\n      <g style=\"fill: #262626\" transform=\"translate(160.134208 261.936406) scale(0.11 -0.11)\">\n       <defs>\n        <path id=\"DejaVuSans-35\" d=\"M 691 4666 \nL 3169 4666 \nL 3169 4134 \nL 1269 4134 \nL 1269 2991 \nQ 1406 3038 1543 3061 \nQ 1681 3084 1819 3084 \nQ 2600 3084 3056 2656 \nQ 3513 2228 3513 1497 \nQ 3513 744 3044 326 \nQ 2575 -91 1722 -91 \nQ 1428 -91 1123 -41 \nQ 819 9 494 109 \nL 494 744 \nQ 775 591 1075 516 \nQ 1375 441 1709 441 \nQ 2250 441 2565 725 \nQ 2881 1009 2881 1497 \nQ 2881 1984 2565 2268 \nQ 2250 2553 1709 2553 \nQ 1456 2553 1204 2497 \nQ 953 2441 691 2322 \nL 691 4666 \nz\n\" transform=\"scale(0.015625)\"/>\n       </defs>\n       <use xlink:href=\"#DejaVuSans-30\"/>\n       <use xlink:href=\"#DejaVuSans-2e\" transform=\"translate(63.623047 0)\"/>\n       <use xlink:href=\"#DejaVuSans-35\" transform=\"translate(95.410156 0)\"/>\n      </g>\n     </g>\n    </g>\n    <g id=\"xtick_3\">\n     <g id=\"line2d_3\">\n      <path d=\"M 239.423158 244.078125 \nL 239.423158 22.318125 \n\" clip-path=\"url(#pa889faaa17)\" style=\"fill: none; stroke: #ffffff; stroke-linecap: round\"/>\n     </g>\n     <g id=\"text_3\">\n      <!-- 1.0 -->\n      <g style=\"fill: #262626\" transform=\"translate(230.67644 261.936406) scale(0.11 -0.11)\">\n       <defs>\n        <path id=\"DejaVuSans-31\" d=\"M 794 531 \nL 1825 531 \nL 1825 4091 \nL 703 3866 \nL 703 4441 \nL 1819 4666 \nL 2450 4666 \nL 2450 531 \nL 3481 531 \nL 3481 0 \nL 794 0 \nL 794 531 \nz\n\" transform=\"scale(0.015625)\"/>\n       </defs>\n       <use xlink:href=\"#DejaVuSans-31\"/>\n       <use xlink:href=\"#DejaVuSans-2e\" transform=\"translate(63.623047 0)\"/>\n       <use xlink:href=\"#DejaVuSans-30\" transform=\"translate(95.410156 0)\"/>\n      </g>\n     </g>\n    </g>\n    <g id=\"text_4\">\n     <!-- $x_1$ -->\n     <g style=\"fill: #262626\" transform=\"translate(164.204844 277.342188) scale(0.12 -0.12)\">\n      <defs>\n       <path id=\"DejaVuSans-Oblique-78\" d=\"M 3841 3500 \nL 2234 1784 \nL 3219 0 \nL 2559 0 \nL 1819 1388 \nL 531 0 \nL -166 0 \nL 1556 1844 \nL 641 3500 \nL 1300 3500 \nL 1972 2234 \nL 3144 3500 \nL 3841 3500 \nz\n\" transform=\"scale(0.015625)\"/>\n      </defs>\n      <use xlink:href=\"#DejaVuSans-Oblique-78\" transform=\"translate(0 0.3125)\"/>\n      <use xlink:href=\"#DejaVuSans-31\" transform=\"translate(59.179688 -16.09375) scale(0.7)\"/>\n     </g>\n    </g>\n   </g>\n   <g id=\"matplotlib.axis_2\">\n    <g id=\"ytick_1\">\n     <g id=\"line2d_4\">\n      <path d=\"M 59.024844 234.65645 \nL 282.224844 234.65645 \n\" clip-path=\"url(#pa889faaa17)\" style=\"fill: none; stroke: #ffffff; stroke-linecap: round\"/>\n     </g>\n     <g id=\"text_5\">\n      <!-- −0.2 -->\n      <g style=\"fill: #262626\" transform=\"translate(22.81375 238.835591) scale(0.11 -0.11)\">\n       <defs>\n        <path id=\"DejaVuSans-2212\" d=\"M 678 2272 \nL 4684 2272 \nL 4684 1741 \nL 678 1741 \nL 678 2272 \nz\n\" transform=\"scale(0.015625)\"/>\n        <path id=\"DejaVuSans-32\" d=\"M 1228 531 \nL 3431 531 \nL 3431 0 \nL 469 0 \nL 469 531 \nQ 828 903 1448 1529 \nQ 2069 2156 2228 2338 \nQ 2531 2678 2651 2914 \nQ 2772 3150 2772 3378 \nQ 2772 3750 2511 3984 \nQ 2250 4219 1831 4219 \nQ 1534 4219 1204 4116 \nQ 875 4013 500 3803 \nL 500 4441 \nQ 881 4594 1212 4672 \nQ 1544 4750 1819 4750 \nQ 2544 4750 2975 4387 \nQ 3406 4025 3406 3419 \nQ 3406 3131 3298 2873 \nQ 3191 2616 2906 2266 \nQ 2828 2175 2409 1742 \nQ 1991 1309 1228 531 \nz\n\" transform=\"scale(0.015625)\"/>\n       </defs>\n       <use xlink:href=\"#DejaVuSans-2212\"/>\n       <use xlink:href=\"#DejaVuSans-30\" transform=\"translate(83.789062 0)\"/>\n       <use xlink:href=\"#DejaVuSans-2e\" transform=\"translate(147.412109 0)\"/>\n       <use xlink:href=\"#DejaVuSans-32\" transform=\"translate(179.199219 0)\"/>\n      </g>\n     </g>\n    </g>\n    <g id=\"ytick_2\">\n     <g id=\"line2d_5\">\n      <path d=\"M 59.024844 207.176015 \nL 282.224844 207.176015 \n\" clip-path=\"url(#pa889faaa17)\" style=\"fill: none; stroke: #ffffff; stroke-linecap: round\"/>\n     </g>\n     <g id=\"text_6\">\n      <!-- 0.0 -->\n      <g style=\"fill: #262626\" transform=\"translate(32.031406 211.355155) scale(0.11 -0.11)\">\n       <use xlink:href=\"#DejaVuSans-30\"/>\n       <use xlink:href=\"#DejaVuSans-2e\" transform=\"translate(63.623047 0)\"/>\n       <use xlink:href=\"#DejaVuSans-30\" transform=\"translate(95.410156 0)\"/>\n      </g>\n     </g>\n    </g>\n    <g id=\"ytick_3\">\n     <g id=\"line2d_6\">\n      <path d=\"M 59.024844 179.695579 \nL 282.224844 179.695579 \n\" clip-path=\"url(#pa889faaa17)\" style=\"fill: none; stroke: #ffffff; stroke-linecap: round\"/>\n     </g>\n     <g id=\"text_7\">\n      <!-- 0.2 -->\n      <g style=\"fill: #262626\" transform=\"translate(32.031406 183.87472) scale(0.11 -0.11)\">\n       <use xlink:href=\"#DejaVuSans-30\"/>\n       <use xlink:href=\"#DejaVuSans-2e\" transform=\"translate(63.623047 0)\"/>\n       <use xlink:href=\"#DejaVuSans-32\" transform=\"translate(95.410156 0)\"/>\n      </g>\n     </g>\n    </g>\n    <g id=\"ytick_4\">\n     <g id=\"line2d_7\">\n      <path d=\"M 59.024844 152.215144 \nL 282.224844 152.215144 \n\" clip-path=\"url(#pa889faaa17)\" style=\"fill: none; stroke: #ffffff; stroke-linecap: round\"/>\n     </g>\n     <g id=\"text_8\">\n      <!-- 0.4 -->\n      <g style=\"fill: #262626\" transform=\"translate(32.031406 156.394284) scale(0.11 -0.11)\">\n       <defs>\n        <path id=\"DejaVuSans-34\" d=\"M 2419 4116 \nL 825 1625 \nL 2419 1625 \nL 2419 4116 \nz\nM 2253 4666 \nL 3047 4666 \nL 3047 1625 \nL 3713 1625 \nL 3713 1100 \nL 3047 1100 \nL 3047 0 \nL 2419 0 \nL 2419 1100 \nL 313 1100 \nL 313 1709 \nL 2253 4666 \nz\n\" transform=\"scale(0.015625)\"/>\n       </defs>\n       <use xlink:href=\"#DejaVuSans-30\"/>\n       <use xlink:href=\"#DejaVuSans-2e\" transform=\"translate(63.623047 0)\"/>\n       <use xlink:href=\"#DejaVuSans-34\" transform=\"translate(95.410156 0)\"/>\n      </g>\n     </g>\n    </g>\n    <g id=\"ytick_5\">\n     <g id=\"line2d_8\">\n      <path d=\"M 59.024844 124.734708 \nL 282.224844 124.734708 \n\" clip-path=\"url(#pa889faaa17)\" style=\"fill: none; stroke: #ffffff; stroke-linecap: round\"/>\n     </g>\n     <g id=\"text_9\">\n      <!-- 0.6 -->\n      <g style=\"fill: #262626\" transform=\"translate(32.031406 128.913849) scale(0.11 -0.11)\">\n       <defs>\n        <path id=\"DejaVuSans-36\" d=\"M 2113 2584 \nQ 1688 2584 1439 2293 \nQ 1191 2003 1191 1497 \nQ 1191 994 1439 701 \nQ 1688 409 2113 409 \nQ 2538 409 2786 701 \nQ 3034 994 3034 1497 \nQ 3034 2003 2786 2293 \nQ 2538 2584 2113 2584 \nz\nM 3366 4563 \nL 3366 3988 \nQ 3128 4100 2886 4159 \nQ 2644 4219 2406 4219 \nQ 1781 4219 1451 3797 \nQ 1122 3375 1075 2522 \nQ 1259 2794 1537 2939 \nQ 1816 3084 2150 3084 \nQ 2853 3084 3261 2657 \nQ 3669 2231 3669 1497 \nQ 3669 778 3244 343 \nQ 2819 -91 2113 -91 \nQ 1303 -91 875 529 \nQ 447 1150 447 2328 \nQ 447 3434 972 4092 \nQ 1497 4750 2381 4750 \nQ 2619 4750 2861 4703 \nQ 3103 4656 3366 4563 \nz\n\" transform=\"scale(0.015625)\"/>\n       </defs>\n       <use xlink:href=\"#DejaVuSans-30\"/>\n       <use xlink:href=\"#DejaVuSans-2e\" transform=\"translate(63.623047 0)\"/>\n       <use xlink:href=\"#DejaVuSans-36\" transform=\"translate(95.410156 0)\"/>\n      </g>\n     </g>\n    </g>\n    <g id=\"ytick_6\">\n     <g id=\"line2d_9\">\n      <path d=\"M 59.024844 97.254273 \nL 282.224844 97.254273 \n\" clip-path=\"url(#pa889faaa17)\" style=\"fill: none; stroke: #ffffff; stroke-linecap: round\"/>\n     </g>\n     <g id=\"text_10\">\n      <!-- 0.8 -->\n      <g style=\"fill: #262626\" transform=\"translate(32.031406 101.433413) scale(0.11 -0.11)\">\n       <defs>\n        <path id=\"DejaVuSans-38\" d=\"M 2034 2216 \nQ 1584 2216 1326 1975 \nQ 1069 1734 1069 1313 \nQ 1069 891 1326 650 \nQ 1584 409 2034 409 \nQ 2484 409 2743 651 \nQ 3003 894 3003 1313 \nQ 3003 1734 2745 1975 \nQ 2488 2216 2034 2216 \nz\nM 1403 2484 \nQ 997 2584 770 2862 \nQ 544 3141 544 3541 \nQ 544 4100 942 4425 \nQ 1341 4750 2034 4750 \nQ 2731 4750 3128 4425 \nQ 3525 4100 3525 3541 \nQ 3525 3141 3298 2862 \nQ 3072 2584 2669 2484 \nQ 3125 2378 3379 2068 \nQ 3634 1759 3634 1313 \nQ 3634 634 3220 271 \nQ 2806 -91 2034 -91 \nQ 1263 -91 848 271 \nQ 434 634 434 1313 \nQ 434 1759 690 2068 \nQ 947 2378 1403 2484 \nz\nM 1172 3481 \nQ 1172 3119 1398 2916 \nQ 1625 2713 2034 2713 \nQ 2441 2713 2670 2916 \nQ 2900 3119 2900 3481 \nQ 2900 3844 2670 4047 \nQ 2441 4250 2034 4250 \nQ 1625 4250 1398 4047 \nQ 1172 3844 1172 3481 \nz\n\" transform=\"scale(0.015625)\"/>\n       </defs>\n       <use xlink:href=\"#DejaVuSans-30\"/>\n       <use xlink:href=\"#DejaVuSans-2e\" transform=\"translate(63.623047 0)\"/>\n       <use xlink:href=\"#DejaVuSans-38\" transform=\"translate(95.410156 0)\"/>\n      </g>\n     </g>\n    </g>\n    <g id=\"ytick_7\">\n     <g id=\"line2d_10\">\n      <path d=\"M 59.024844 69.773837 \nL 282.224844 69.773837 \n\" clip-path=\"url(#pa889faaa17)\" style=\"fill: none; stroke: #ffffff; stroke-linecap: round\"/>\n     </g>\n     <g id=\"text_11\">\n      <!-- 1.0 -->\n      <g style=\"fill: #262626\" transform=\"translate(32.031406 73.952978) scale(0.11 -0.11)\">\n       <use xlink:href=\"#DejaVuSans-31\"/>\n       <use xlink:href=\"#DejaVuSans-2e\" transform=\"translate(63.623047 0)\"/>\n       <use xlink:href=\"#DejaVuSans-30\" transform=\"translate(95.410156 0)\"/>\n      </g>\n     </g>\n    </g>\n    <g id=\"ytick_8\">\n     <g id=\"line2d_11\">\n      <path d=\"M 59.024844 42.293402 \nL 282.224844 42.293402 \n\" clip-path=\"url(#pa889faaa17)\" style=\"fill: none; stroke: #ffffff; stroke-linecap: round\"/>\n     </g>\n     <g id=\"text_12\">\n      <!-- 1.2 -->\n      <g style=\"fill: #262626\" transform=\"translate(32.031406 46.472542) scale(0.11 -0.11)\">\n       <use xlink:href=\"#DejaVuSans-31\"/>\n       <use xlink:href=\"#DejaVuSans-2e\" transform=\"translate(63.623047 0)\"/>\n       <use xlink:href=\"#DejaVuSans-32\" transform=\"translate(95.410156 0)\"/>\n      </g>\n     </g>\n    </g>\n    <g id=\"text_13\">\n     <!-- $x_2$ -->\n     <g style=\"fill: #262626\" transform=\"translate(16.318125 139.618125) rotate(-90) scale(0.12 -0.12)\">\n      <use xlink:href=\"#DejaVuSans-Oblique-78\" transform=\"translate(0 0.3125)\"/>\n      <use xlink:href=\"#DejaVuSans-32\" transform=\"translate(59.179688 -16.09375) scale(0.7)\"/>\n     </g>\n    </g>\n   </g>\n   <g id=\"PathCollection_1\">\n    <defs>\n     <path id=\"m73bb2b67f3\" d=\"M 0 3 \nC 0.795609 3 1.55874 2.683901 2.12132 2.12132 \nC 2.683901 1.55874 3 0.795609 3 0 \nC 3 -0.795609 2.683901 -1.55874 2.12132 -2.12132 \nC 1.55874 -2.683901 0.795609 -3 0 -3 \nC -0.795609 -3 -1.55874 -2.683901 -2.12132 -2.12132 \nC -2.683901 -1.55874 -3 -0.795609 -3 0 \nC -3 0.795609 -2.683901 1.55874 -2.12132 2.12132 \nC -1.55874 2.683901 -0.795609 3 0 3 \nz\n\" style=\"stroke: #333333\"/>\n    </defs>\n    <g clip-path=\"url(#pa889faaa17)\">\n     <use xlink:href=\"#m73bb2b67f3\" x=\"102.473492\" y=\"216.991358\" style=\"fill: #4c72b0; stroke: #333333\"/>\n     <use xlink:href=\"#m73bb2b67f3\" x=\"81.531253\" y=\"198.154825\" style=\"fill: #4c72b0; stroke: #333333\"/>\n     <use xlink:href=\"#m73bb2b67f3\" x=\"114.684678\" y=\"218.452369\" style=\"fill: #4c72b0; stroke: #333333\"/>\n     <use xlink:href=\"#m73bb2b67f3\" x=\"111.930435\" y=\"201.504315\" style=\"fill: #4c72b0; stroke: #333333\"/>\n     <use xlink:href=\"#m73bb2b67f3\" x=\"235.961113\" y=\"80.130332\" style=\"fill: #4c72b0; stroke: #333333\"/>\n     <use xlink:href=\"#m73bb2b67f3\" x=\"243.326835\" y=\"58.408153\" style=\"fill: #4c72b0; stroke: #333333\"/>\n     <use xlink:href=\"#m73bb2b67f3\" x=\"239.606599\" y=\"49.801958\" style=\"fill: #4c72b0; stroke: #333333\"/>\n     <use xlink:href=\"#m73bb2b67f3\" x=\"235.689266\" y=\"32.398125\" style=\"fill: #4c72b0; stroke: #333333\"/>\n     <use xlink:href=\"#m73bb2b67f3\" x=\"248.250356\" y=\"81.551371\" style=\"fill: #4c72b0; stroke: #333333\"/>\n     <use xlink:href=\"#m73bb2b67f3\" x=\"83.230065\" y=\"200.546739\" style=\"fill: #4c72b0; stroke: #333333\"/>\n     <use xlink:href=\"#m73bb2b67f3\" x=\"236.270449\" y=\"59.963315\" style=\"fill: #4c72b0; stroke: #333333\"/>\n     <use xlink:href=\"#m73bb2b67f3\" x=\"92.039062\" y=\"195.408909\" style=\"fill: #4c72b0; stroke: #333333\"/>\n     <use xlink:href=\"#m73bb2b67f3\" x=\"101.359224\" y=\"224.292737\" style=\"fill: #4c72b0; stroke: #333333\"/>\n     <use xlink:href=\"#m73bb2b67f3\" x=\"241.866478\" y=\"64.479487\" style=\"fill: #4c72b0; stroke: #333333\"/>\n     <use xlink:href=\"#m73bb2b67f3\" x=\"226.953301\" y=\"67.66162\" style=\"fill: #4c72b0; stroke: #333333\"/>\n     <use xlink:href=\"#m73bb2b67f3\" x=\"244.470986\" y=\"62.068538\" style=\"fill: #4c72b0; stroke: #333333\"/>\n     <use xlink:href=\"#m73bb2b67f3\" x=\"106.393072\" y=\"191.573095\" style=\"fill: #4c72b0; stroke: #333333\"/>\n     <use xlink:href=\"#m73bb2b67f3\" x=\"111.798177\" y=\"198.225757\" style=\"fill: #4c72b0; stroke: #333333\"/>\n     <use xlink:href=\"#m73bb2b67f3\" x=\"93.890735\" y=\"196.747613\" style=\"fill: #4c72b0; stroke: #333333\"/>\n     <use xlink:href=\"#m73bb2b67f3\" x=\"272.079389\" y=\"95.430466\" style=\"fill: #4c72b0; stroke: #333333\"/>\n     <use xlink:href=\"#m73bb2b67f3\" x=\"249.105227\" y=\"91.932902\" style=\"fill: #4c72b0; stroke: #333333\"/>\n     <use xlink:href=\"#m73bb2b67f3\" x=\"229.331339\" y=\"60.436015\" style=\"fill: #4c72b0; stroke: #333333\"/>\n     <use xlink:href=\"#m73bb2b67f3\" x=\"69.767078\" y=\"204.614092\" style=\"fill: #4c72b0; stroke: #333333\"/>\n     <use xlink:href=\"#m73bb2b67f3\" x=\"228.241923\" y=\"71.350342\" style=\"fill: #4c72b0; stroke: #333333\"/>\n     <use xlink:href=\"#m73bb2b67f3\" x=\"246.547744\" y=\"57.878174\" style=\"fill: #4c72b0; stroke: #333333\"/>\n     <use xlink:href=\"#m73bb2b67f3\" x=\"222.488843\" y=\"74.369957\" style=\"fill: #4c72b0; stroke: #333333\"/>\n     <use xlink:href=\"#m73bb2b67f3\" x=\"232.722418\" y=\"78.750727\" style=\"fill: #4c72b0; stroke: #333333\"/>\n     <use xlink:href=\"#m73bb2b67f3\" x=\"264.330969\" y=\"64.209305\" style=\"fill: #4c72b0; stroke: #333333\"/>\n     <use xlink:href=\"#m73bb2b67f3\" x=\"217.987207\" y=\"76.427319\" style=\"fill: #4c72b0; stroke: #333333\"/>\n     <use xlink:href=\"#m73bb2b67f3\" x=\"257.297305\" y=\"79.497367\" style=\"fill: #4c72b0; stroke: #333333\"/>\n     <use xlink:href=\"#m73bb2b67f3\" x=\"245.684766\" y=\"59.130199\" style=\"fill: #4c72b0; stroke: #333333\"/>\n     <use xlink:href=\"#m73bb2b67f3\" x=\"235.859815\" y=\"86.918651\" style=\"fill: #4c72b0; stroke: #333333\"/>\n     <use xlink:href=\"#m73bb2b67f3\" x=\"241.024708\" y=\"60.676025\" style=\"fill: #4c72b0; stroke: #333333\"/>\n     <use xlink:href=\"#m73bb2b67f3\" x=\"128.432482\" y=\"233.998125\" style=\"fill: #4c72b0; stroke: #333333\"/>\n     <use xlink:href=\"#m73bb2b67f3\" x=\"96.197242\" y=\"199.092408\" style=\"fill: #4c72b0; stroke: #333333\"/>\n     <use xlink:href=\"#m73bb2b67f3\" x=\"102.303053\" y=\"215.732042\" style=\"fill: #4c72b0; stroke: #333333\"/>\n     <use xlink:href=\"#m73bb2b67f3\" x=\"95.402413\" y=\"213.949955\" style=\"fill: #4c72b0; stroke: #333333\"/>\n     <use xlink:href=\"#m73bb2b67f3\" x=\"244.460087\" y=\"79.294563\" style=\"fill: #4c72b0; stroke: #333333\"/>\n     <use xlink:href=\"#m73bb2b67f3\" x=\"109.806916\" y=\"198.524777\" style=\"fill: #4c72b0; stroke: #333333\"/>\n     <use xlink:href=\"#m73bb2b67f3\" x=\"108.881846\" y=\"198.789394\" style=\"fill: #4c72b0; stroke: #333333\"/>\n     <use xlink:href=\"#m73bb2b67f3\" x=\"98.043805\" y=\"205.563911\" style=\"fill: #4c72b0; stroke: #333333\"/>\n     <use xlink:href=\"#m73bb2b67f3\" x=\"109.984037\" y=\"195.998214\" style=\"fill: #4c72b0; stroke: #333333\"/>\n     <use xlink:href=\"#m73bb2b67f3\" x=\"257.841436\" y=\"69.485245\" style=\"fill: #4c72b0; stroke: #333333\"/>\n     <use xlink:href=\"#m73bb2b67f3\" x=\"255.762307\" y=\"58.896216\" style=\"fill: #4c72b0; stroke: #333333\"/>\n     <use xlink:href=\"#m73bb2b67f3\" x=\"107.144055\" y=\"198.54241\" style=\"fill: #4c72b0; stroke: #333333\"/>\n     <use xlink:href=\"#m73bb2b67f3\" x=\"98.165911\" y=\"219.504485\" style=\"fill: #4c72b0; stroke: #333333\"/>\n     <use xlink:href=\"#m73bb2b67f3\" x=\"99.408179\" y=\"216.480364\" style=\"fill: #4c72b0; stroke: #333333\"/>\n     <use xlink:href=\"#m73bb2b67f3\" x=\"86.692211\" y=\"211.591926\" style=\"fill: #4c72b0; stroke: #333333\"/>\n     <use xlink:href=\"#m73bb2b67f3\" x=\"101.794792\" y=\"214.141524\" style=\"fill: #4c72b0; stroke: #333333\"/>\n     <use xlink:href=\"#m73bb2b67f3\" x=\"91.693076\" y=\"203.987598\" style=\"fill: #4c72b0; stroke: #333333\"/>\n     <use xlink:href=\"#m73bb2b67f3\" x=\"229.28703\" y=\"72.706648\" style=\"fill: #4c72b0; stroke: #333333\"/>\n     <use xlink:href=\"#m73bb2b67f3\" x=\"102.725117\" y=\"186.904299\" style=\"fill: #4c72b0; stroke: #333333\"/>\n     <use xlink:href=\"#m73bb2b67f3\" x=\"98.070405\" y=\"220.950986\" style=\"fill: #4c72b0; stroke: #333333\"/>\n     <use xlink:href=\"#m73bb2b67f3\" x=\"243.976217\" y=\"81.140168\" style=\"fill: #4c72b0; stroke: #333333\"/>\n     <use xlink:href=\"#m73bb2b67f3\" x=\"96.804258\" y=\"201.656408\" style=\"fill: #4c72b0; stroke: #333333\"/>\n     <use xlink:href=\"#m73bb2b67f3\" x=\"108.075554\" y=\"212.688871\" style=\"fill: #4c72b0; stroke: #333333\"/>\n     <use xlink:href=\"#m73bb2b67f3\" x=\"101.500291\" y=\"207.002992\" style=\"fill: #4c72b0; stroke: #333333\"/>\n     <use xlink:href=\"#m73bb2b67f3\" x=\"118.812076\" y=\"193.995425\" style=\"fill: #4c72b0; stroke: #333333\"/>\n     <use xlink:href=\"#m73bb2b67f3\" x=\"269.801212\" y=\"80.317363\" style=\"fill: #4c72b0; stroke: #333333\"/>\n     <use xlink:href=\"#m73bb2b67f3\" x=\"251.730254\" y=\"67.254685\" style=\"fill: #4c72b0; stroke: #333333\"/>\n     <use xlink:href=\"#m73bb2b67f3\" x=\"86.491523\" y=\"215.4118\" style=\"fill: #4c72b0; stroke: #333333\"/>\n     <use xlink:href=\"#m73bb2b67f3\" x=\"209.458287\" y=\"76.997829\" style=\"fill: #4c72b0; stroke: #333333\"/>\n     <use xlink:href=\"#m73bb2b67f3\" x=\"228.712978\" y=\"67.707401\" style=\"fill: #4c72b0; stroke: #333333\"/>\n     <use xlink:href=\"#m73bb2b67f3\" x=\"244.24481\" y=\"43.994844\" style=\"fill: #4c72b0; stroke: #333333\"/>\n     <use xlink:href=\"#m73bb2b67f3\" x=\"252.832157\" y=\"77.700621\" style=\"fill: #4c72b0; stroke: #333333\"/>\n     <use xlink:href=\"#m73bb2b67f3\" x=\"96.722715\" y=\"190.168149\" style=\"fill: #4c72b0; stroke: #333333\"/>\n     <use xlink:href=\"#m73bb2b67f3\" x=\"75.843797\" y=\"215.411558\" style=\"fill: #4c72b0; stroke: #333333\"/>\n     <use xlink:href=\"#m73bb2b67f3\" x=\"83.276228\" y=\"209.13234\" style=\"fill: #4c72b0; stroke: #333333\"/>\n     <use xlink:href=\"#m73bb2b67f3\" x=\"103.027129\" y=\"217.460382\" style=\"fill: #4c72b0; stroke: #333333\"/>\n     <use xlink:href=\"#m73bb2b67f3\" x=\"256.061207\" y=\"68.846112\" style=\"fill: #4c72b0; stroke: #333333\"/>\n     <use xlink:href=\"#m73bb2b67f3\" x=\"127.412645\" y=\"183.057249\" style=\"fill: #4c72b0; stroke: #333333\"/>\n     <use xlink:href=\"#m73bb2b67f3\" x=\"235.910657\" y=\"56.424237\" style=\"fill: #4c72b0; stroke: #333333\"/>\n     <use xlink:href=\"#m73bb2b67f3\" x=\"248.528417\" y=\"50.968547\" style=\"fill: #4c72b0; stroke: #333333\"/>\n     <use xlink:href=\"#m73bb2b67f3\" x=\"235.622244\" y=\"59.914651\" style=\"fill: #4c72b0; stroke: #333333\"/>\n     <use xlink:href=\"#m73bb2b67f3\" x=\"74.306614\" y=\"207.939252\" style=\"fill: #4c72b0; stroke: #333333\"/>\n     <use xlink:href=\"#m73bb2b67f3\" x=\"69.170298\" y=\"208.400543\" style=\"fill: #4c72b0; stroke: #333333\"/>\n     <use xlink:href=\"#m73bb2b67f3\" x=\"244.595292\" y=\"82.687993\" style=\"fill: #4c72b0; stroke: #333333\"/>\n     <use xlink:href=\"#m73bb2b67f3\" x=\"84.431631\" y=\"200.250305\" style=\"fill: #4c72b0; stroke: #333333\"/>\n     <use xlink:href=\"#m73bb2b67f3\" x=\"231.61203\" y=\"86.232943\" style=\"fill: #4c72b0; stroke: #333333\"/>\n     <use xlink:href=\"#m73bb2b67f3\" x=\"267.14238\" y=\"69.289312\" style=\"fill: #4c72b0; stroke: #333333\"/>\n     <use xlink:href=\"#m73bb2b67f3\" x=\"90.854147\" y=\"215.087882\" style=\"fill: #4c72b0; stroke: #333333\"/>\n     <use xlink:href=\"#m73bb2b67f3\" x=\"262.631098\" y=\"73.195645\" style=\"fill: #4c72b0; stroke: #333333\"/>\n     <use xlink:href=\"#m73bb2b67f3\" x=\"247.557481\" y=\"65.497185\" style=\"fill: #4c72b0; stroke: #333333\"/>\n     <use xlink:href=\"#m73bb2b67f3\" x=\"141.776921\" y=\"191.792812\" style=\"fill: #4c72b0; stroke: #333333\"/>\n     <use xlink:href=\"#m73bb2b67f3\" x=\"237.618441\" y=\"82.903172\" style=\"fill: #4c72b0; stroke: #333333\"/>\n     <use xlink:href=\"#m73bb2b67f3\" x=\"75.674232\" y=\"204.38038\" style=\"fill: #4c72b0; stroke: #333333\"/>\n     <use xlink:href=\"#m73bb2b67f3\" x=\"230.301022\" y=\"84.634538\" style=\"fill: #4c72b0; stroke: #333333\"/>\n     <use xlink:href=\"#m73bb2b67f3\" x=\"122.141642\" y=\"195.062092\" style=\"fill: #4c72b0; stroke: #333333\"/>\n     <use xlink:href=\"#m73bb2b67f3\" x=\"239.310676\" y=\"49.439084\" style=\"fill: #4c72b0; stroke: #333333\"/>\n     <use xlink:href=\"#m73bb2b67f3\" x=\"83.704763\" y=\"209.791309\" style=\"fill: #4c72b0; stroke: #333333\"/>\n     <use xlink:href=\"#m73bb2b67f3\" x=\"240.107725\" y=\"81.191273\" style=\"fill: #4c72b0; stroke: #333333\"/>\n     <use xlink:href=\"#m73bb2b67f3\" x=\"102.15442\" y=\"207.866297\" style=\"fill: #4c72b0; stroke: #333333\"/>\n     <use xlink:href=\"#m73bb2b67f3\" x=\"105.405857\" y=\"220.607836\" style=\"fill: #4c72b0; stroke: #333333\"/>\n     <use xlink:href=\"#m73bb2b67f3\" x=\"240.824583\" y=\"59.449618\" style=\"fill: #4c72b0; stroke: #333333\"/>\n     <use xlink:href=\"#m73bb2b67f3\" x=\"74.78598\" y=\"199.710127\" style=\"fill: #4c72b0; stroke: #333333\"/>\n     <use xlink:href=\"#m73bb2b67f3\" x=\"230.074568\" y=\"61.933685\" style=\"fill: #4c72b0; stroke: #333333\"/>\n     <use xlink:href=\"#m73bb2b67f3\" x=\"228.654761\" y=\"94.573313\" style=\"fill: #4c72b0; stroke: #333333\"/>\n     <use xlink:href=\"#m73bb2b67f3\" x=\"238.490871\" y=\"86.413463\" style=\"fill: #4c72b0; stroke: #333333\"/>\n     <use xlink:href=\"#m73bb2b67f3\" x=\"112.535922\" y=\"215.102634\" style=\"fill: #4c72b0; stroke: #333333\"/>\n     <use xlink:href=\"#m73bb2b67f3\" x=\"110.129012\" y=\"222.698433\" style=\"fill: #4c72b0; stroke: #333333\"/>\n     <use xlink:href=\"#m73bb2b67f3\" x=\"105.813408\" y=\"187.368548\" style=\"fill: #4c72b0; stroke: #333333\"/>\n     <use xlink:href=\"#m73bb2b67f3\" x=\"204.552098\" y=\"80.723348\" style=\"fill: #4c72b0; stroke: #333333\"/>\n     <use xlink:href=\"#m73bb2b67f3\" x=\"244.659455\" y=\"78.072725\" style=\"fill: #4c72b0; stroke: #333333\"/>\n    </g>\n   </g>\n   <g id=\"PathCollection_2\">\n    <defs>\n     <path id=\"mdfd8ac55fd\" d=\"M 0 3 \nC 0.795609 3 1.55874 2.683901 2.12132 2.12132 \nC 2.683901 1.55874 3 0.795609 3 0 \nC 3 -0.795609 2.683901 -1.55874 2.12132 -2.12132 \nC 1.55874 -2.683901 0.795609 -3 0 -3 \nC -0.795609 -3 -1.55874 -2.683901 -2.12132 -2.12132 \nC -2.683901 -1.55874 -3 -0.795609 -3 0 \nC -3 0.795609 -2.683901 1.55874 -2.12132 2.12132 \nC -1.55874 2.683901 -0.795609 3 0 3 \nz\n\" style=\"stroke: #333333\"/>\n    </defs>\n    <g clip-path=\"url(#pa889faaa17)\">\n     <use xlink:href=\"#mdfd8ac55fd\" x=\"88.744602\" y=\"66.582613\" style=\"fill: #dd8452; stroke: #333333\"/>\n     <use xlink:href=\"#mdfd8ac55fd\" x=\"124.661874\" y=\"63.263267\" style=\"fill: #dd8452; stroke: #333333\"/>\n     <use xlink:href=\"#mdfd8ac55fd\" x=\"84.58745\" y=\"58.95913\" style=\"fill: #dd8452; stroke: #333333\"/>\n     <use xlink:href=\"#mdfd8ac55fd\" x=\"251.021149\" y=\"181.113666\" style=\"fill: #dd8452; stroke: #333333\"/>\n     <use xlink:href=\"#mdfd8ac55fd\" x=\"226.873488\" y=\"218.385425\" style=\"fill: #dd8452; stroke: #333333\"/>\n     <use xlink:href=\"#mdfd8ac55fd\" x=\"238.335375\" y=\"202.488512\" style=\"fill: #dd8452; stroke: #333333\"/>\n     <use xlink:href=\"#mdfd8ac55fd\" x=\"246.099798\" y=\"208.1767\" style=\"fill: #dd8452; stroke: #333333\"/>\n     <use xlink:href=\"#mdfd8ac55fd\" x=\"227.476216\" y=\"227.990346\" style=\"fill: #dd8452; stroke: #333333\"/>\n     <use xlink:href=\"#mdfd8ac55fd\" x=\"240.244393\" y=\"222.880676\" style=\"fill: #dd8452; stroke: #333333\"/>\n     <use xlink:href=\"#mdfd8ac55fd\" x=\"113.618865\" y=\"55.294371\" style=\"fill: #dd8452; stroke: #333333\"/>\n     <use xlink:href=\"#mdfd8ac55fd\" x=\"78.901919\" y=\"82.659755\" style=\"fill: #dd8452; stroke: #333333\"/>\n     <use xlink:href=\"#mdfd8ac55fd\" x=\"105.605042\" y=\"62.714304\" style=\"fill: #dd8452; stroke: #333333\"/>\n     <use xlink:href=\"#mdfd8ac55fd\" x=\"246.689676\" y=\"154.238644\" style=\"fill: #dd8452; stroke: #333333\"/>\n     <use xlink:href=\"#mdfd8ac55fd\" x=\"87.435332\" y=\"73.027779\" style=\"fill: #dd8452; stroke: #333333\"/>\n     <use xlink:href=\"#mdfd8ac55fd\" x=\"232.575432\" y=\"206.051046\" style=\"fill: #dd8452; stroke: #333333\"/>\n     <use xlink:href=\"#mdfd8ac55fd\" x=\"91.680469\" y=\"54.811418\" style=\"fill: #dd8452; stroke: #333333\"/>\n     <use xlink:href=\"#mdfd8ac55fd\" x=\"99.245585\" y=\"84.582287\" style=\"fill: #dd8452; stroke: #333333\"/>\n     <use xlink:href=\"#mdfd8ac55fd\" x=\"88.034356\" y=\"66.799643\" style=\"fill: #dd8452; stroke: #333333\"/>\n     <use xlink:href=\"#mdfd8ac55fd\" x=\"98.981642\" y=\"78.726968\" style=\"fill: #dd8452; stroke: #333333\"/>\n     <use xlink:href=\"#mdfd8ac55fd\" x=\"128.586414\" y=\"61.063649\" style=\"fill: #dd8452; stroke: #333333\"/>\n     <use xlink:href=\"#mdfd8ac55fd\" x=\"230.086383\" y=\"195.463394\" style=\"fill: #dd8452; stroke: #333333\"/>\n     <use xlink:href=\"#mdfd8ac55fd\" x=\"221.634047\" y=\"194.564391\" style=\"fill: #dd8452; stroke: #333333\"/>\n     <use xlink:href=\"#mdfd8ac55fd\" x=\"128.279021\" y=\"55.587534\" style=\"fill: #dd8452; stroke: #333333\"/>\n     <use xlink:href=\"#mdfd8ac55fd\" x=\"226.345612\" y=\"207.993906\" style=\"fill: #dd8452; stroke: #333333\"/>\n     <use xlink:href=\"#mdfd8ac55fd\" x=\"193.693914\" y=\"221.251324\" style=\"fill: #dd8452; stroke: #333333\"/>\n     <use xlink:href=\"#mdfd8ac55fd\" x=\"121.369482\" y=\"89.42429\" style=\"fill: #dd8452; stroke: #333333\"/>\n     <use xlink:href=\"#mdfd8ac55fd\" x=\"92.13035\" y=\"67.977435\" style=\"fill: #dd8452; stroke: #333333\"/>\n     <use xlink:href=\"#mdfd8ac55fd\" x=\"259.757291\" y=\"226.905074\" style=\"fill: #dd8452; stroke: #333333\"/>\n     <use xlink:href=\"#mdfd8ac55fd\" x=\"255.833584\" y=\"207.03541\" style=\"fill: #dd8452; stroke: #333333\"/>\n     <use xlink:href=\"#mdfd8ac55fd\" x=\"225.575598\" y=\"200.826612\" style=\"fill: #dd8452; stroke: #333333\"/>\n     <use xlink:href=\"#mdfd8ac55fd\" x=\"101.147117\" y=\"78.020949\" style=\"fill: #dd8452; stroke: #333333\"/>\n     <use xlink:href=\"#mdfd8ac55fd\" x=\"240.407954\" y=\"212.470307\" style=\"fill: #dd8452; stroke: #333333\"/>\n     <use xlink:href=\"#mdfd8ac55fd\" x=\"261.799386\" y=\"224.183869\" style=\"fill: #dd8452; stroke: #333333\"/>\n     <use xlink:href=\"#mdfd8ac55fd\" x=\"231.108137\" y=\"195.502297\" style=\"fill: #dd8452; stroke: #333333\"/>\n     <use xlink:href=\"#mdfd8ac55fd\" x=\"252.115114\" y=\"202.953652\" style=\"fill: #dd8452; stroke: #333333\"/>\n     <use xlink:href=\"#mdfd8ac55fd\" x=\"86.642862\" y=\"77.470848\" style=\"fill: #dd8452; stroke: #333333\"/>\n     <use xlink:href=\"#mdfd8ac55fd\" x=\"116.364561\" y=\"77.902156\" style=\"fill: #dd8452; stroke: #333333\"/>\n     <use xlink:href=\"#mdfd8ac55fd\" x=\"106.057388\" y=\"72.552008\" style=\"fill: #dd8452; stroke: #333333\"/>\n     <use xlink:href=\"#mdfd8ac55fd\" x=\"95.267551\" y=\"54.676401\" style=\"fill: #dd8452; stroke: #333333\"/>\n     <use xlink:href=\"#mdfd8ac55fd\" x=\"249.044462\" y=\"211.439147\" style=\"fill: #dd8452; stroke: #333333\"/>\n     <use xlink:href=\"#mdfd8ac55fd\" x=\"243.996635\" y=\"208.964208\" style=\"fill: #dd8452; stroke: #333333\"/>\n     <use xlink:href=\"#mdfd8ac55fd\" x=\"99.707157\" y=\"61.596248\" style=\"fill: #dd8452; stroke: #333333\"/>\n     <use xlink:href=\"#mdfd8ac55fd\" x=\"227.879332\" y=\"178.426158\" style=\"fill: #dd8452; stroke: #333333\"/>\n     <use xlink:href=\"#mdfd8ac55fd\" x=\"84.145352\" y=\"86.457049\" style=\"fill: #dd8452; stroke: #333333\"/>\n     <use xlink:href=\"#mdfd8ac55fd\" x=\"253.180588\" y=\"209.196615\" style=\"fill: #dd8452; stroke: #333333\"/>\n     <use xlink:href=\"#mdfd8ac55fd\" x=\"245.24898\" y=\"214.921713\" style=\"fill: #dd8452; stroke: #333333\"/>\n     <use xlink:href=\"#mdfd8ac55fd\" x=\"86.738442\" y=\"66.425516\" style=\"fill: #dd8452; stroke: #333333\"/>\n     <use xlink:href=\"#mdfd8ac55fd\" x=\"77.908473\" y=\"89.112693\" style=\"fill: #dd8452; stroke: #333333\"/>\n     <use xlink:href=\"#mdfd8ac55fd\" x=\"110.43894\" y=\"71.971425\" style=\"fill: #dd8452; stroke: #333333\"/>\n     <use xlink:href=\"#mdfd8ac55fd\" x=\"239.161966\" y=\"211.142247\" style=\"fill: #dd8452; stroke: #333333\"/>\n     <use xlink:href=\"#mdfd8ac55fd\" x=\"246.750324\" y=\"186.115848\" style=\"fill: #dd8452; stroke: #333333\"/>\n     <use xlink:href=\"#mdfd8ac55fd\" x=\"240.801222\" y=\"217.797338\" style=\"fill: #dd8452; stroke: #333333\"/>\n     <use xlink:href=\"#mdfd8ac55fd\" x=\"239.768965\" y=\"200.333409\" style=\"fill: #dd8452; stroke: #333333\"/>\n     <use xlink:href=\"#mdfd8ac55fd\" x=\"129.233412\" y=\"80.880027\" style=\"fill: #dd8452; stroke: #333333\"/>\n     <use xlink:href=\"#mdfd8ac55fd\" x=\"85.663459\" y=\"63.014756\" style=\"fill: #dd8452; stroke: #333333\"/>\n     <use xlink:href=\"#mdfd8ac55fd\" x=\"220.796717\" y=\"182.011372\" style=\"fill: #dd8452; stroke: #333333\"/>\n     <use xlink:href=\"#mdfd8ac55fd\" x=\"256.063225\" y=\"213.62259\" style=\"fill: #dd8452; stroke: #333333\"/>\n     <use xlink:href=\"#mdfd8ac55fd\" x=\"74.169028\" y=\"51.171343\" style=\"fill: #dd8452; stroke: #333333\"/>\n     <use xlink:href=\"#mdfd8ac55fd\" x=\"239.497143\" y=\"206.530491\" style=\"fill: #dd8452; stroke: #333333\"/>\n     <use xlink:href=\"#mdfd8ac55fd\" x=\"233.07343\" y=\"198.617921\" style=\"fill: #dd8452; stroke: #333333\"/>\n     <use xlink:href=\"#mdfd8ac55fd\" x=\"100.035879\" y=\"62.705328\" style=\"fill: #dd8452; stroke: #333333\"/>\n     <use xlink:href=\"#mdfd8ac55fd\" x=\"249.462942\" y=\"222.628842\" style=\"fill: #dd8452; stroke: #333333\"/>\n     <use xlink:href=\"#mdfd8ac55fd\" x=\"76.694727\" y=\"52.218279\" style=\"fill: #dd8452; stroke: #333333\"/>\n     <use xlink:href=\"#mdfd8ac55fd\" x=\"120.223039\" y=\"68.184441\" style=\"fill: #dd8452; stroke: #333333\"/>\n     <use xlink:href=\"#mdfd8ac55fd\" x=\"84.725124\" y=\"60.347335\" style=\"fill: #dd8452; stroke: #333333\"/>\n     <use xlink:href=\"#mdfd8ac55fd\" x=\"113.271419\" y=\"93.939299\" style=\"fill: #dd8452; stroke: #333333\"/>\n     <use xlink:href=\"#mdfd8ac55fd\" x=\"81.644755\" y=\"97.793332\" style=\"fill: #dd8452; stroke: #333333\"/>\n     <use xlink:href=\"#mdfd8ac55fd\" x=\"260.619075\" y=\"206.157936\" style=\"fill: #dd8452; stroke: #333333\"/>\n     <use xlink:href=\"#mdfd8ac55fd\" x=\"262.400398\" y=\"226.138909\" style=\"fill: #dd8452; stroke: #333333\"/>\n     <use xlink:href=\"#mdfd8ac55fd\" x=\"103.757261\" y=\"70.223073\" style=\"fill: #dd8452; stroke: #333333\"/>\n     <use xlink:href=\"#mdfd8ac55fd\" x=\"79.934655\" y=\"60.572391\" style=\"fill: #dd8452; stroke: #333333\"/>\n     <use xlink:href=\"#mdfd8ac55fd\" x=\"232.173291\" y=\"221.729839\" style=\"fill: #dd8452; stroke: #333333\"/>\n     <use xlink:href=\"#mdfd8ac55fd\" x=\"97.45439\" y=\"56.649981\" style=\"fill: #dd8452; stroke: #333333\"/>\n     <use xlink:href=\"#mdfd8ac55fd\" x=\"90.857583\" y=\"80.668083\" style=\"fill: #dd8452; stroke: #333333\"/>\n     <use xlink:href=\"#mdfd8ac55fd\" x=\"237.913128\" y=\"221.400469\" style=\"fill: #dd8452; stroke: #333333\"/>\n     <use xlink:href=\"#mdfd8ac55fd\" x=\"229.551115\" y=\"204.235884\" style=\"fill: #dd8452; stroke: #333333\"/>\n     <use xlink:href=\"#mdfd8ac55fd\" x=\"237.838386\" y=\"210.212185\" style=\"fill: #dd8452; stroke: #333333\"/>\n     <use xlink:href=\"#mdfd8ac55fd\" x=\"107.003632\" y=\"59.365508\" style=\"fill: #dd8452; stroke: #333333\"/>\n     <use xlink:href=\"#mdfd8ac55fd\" x=\"94.458142\" y=\"101.402736\" style=\"fill: #dd8452; stroke: #333333\"/>\n     <use xlink:href=\"#mdfd8ac55fd\" x=\"218.046165\" y=\"188.394864\" style=\"fill: #dd8452; stroke: #333333\"/>\n     <use xlink:href=\"#mdfd8ac55fd\" x=\"228.752224\" y=\"226.71809\" style=\"fill: #dd8452; stroke: #333333\"/>\n     <use xlink:href=\"#mdfd8ac55fd\" x=\"99.430241\" y=\"81.608069\" style=\"fill: #dd8452; stroke: #333333\"/>\n     <use xlink:href=\"#mdfd8ac55fd\" x=\"119.827609\" y=\"62.369088\" style=\"fill: #dd8452; stroke: #333333\"/>\n     <use xlink:href=\"#mdfd8ac55fd\" x=\"85.985081\" y=\"88.773807\" style=\"fill: #dd8452; stroke: #333333\"/>\n     <use xlink:href=\"#mdfd8ac55fd\" x=\"252.490084\" y=\"180.940214\" style=\"fill: #dd8452; stroke: #333333\"/>\n     <use xlink:href=\"#mdfd8ac55fd\" x=\"219.691543\" y=\"199.440695\" style=\"fill: #dd8452; stroke: #333333\"/>\n     <use xlink:href=\"#mdfd8ac55fd\" x=\"89.159138\" y=\"76.467048\" style=\"fill: #dd8452; stroke: #333333\"/>\n     <use xlink:href=\"#mdfd8ac55fd\" x=\"231.065401\" y=\"219.047436\" style=\"fill: #dd8452; stroke: #333333\"/>\n     <use xlink:href=\"#mdfd8ac55fd\" x=\"236.051975\" y=\"219.646137\" style=\"fill: #dd8452; stroke: #333333\"/>\n     <use xlink:href=\"#mdfd8ac55fd\" x=\"90.201347\" y=\"59.394599\" style=\"fill: #dd8452; stroke: #333333\"/>\n     <use xlink:href=\"#mdfd8ac55fd\" x=\"75.3766\" y=\"69.113132\" style=\"fill: #dd8452; stroke: #333333\"/>\n     <use xlink:href=\"#mdfd8ac55fd\" x=\"243.087439\" y=\"219.601522\" style=\"fill: #dd8452; stroke: #333333\"/>\n     <use xlink:href=\"#mdfd8ac55fd\" x=\"248.432703\" y=\"230.005661\" style=\"fill: #dd8452; stroke: #333333\"/>\n     <use xlink:href=\"#mdfd8ac55fd\" x=\"230.22676\" y=\"206.524746\" style=\"fill: #dd8452; stroke: #333333\"/>\n     <use xlink:href=\"#mdfd8ac55fd\" x=\"86.199598\" y=\"75.057713\" style=\"fill: #dd8452; stroke: #333333\"/>\n     <use xlink:href=\"#mdfd8ac55fd\" x=\"106.480285\" y=\"72.563728\" style=\"fill: #dd8452; stroke: #333333\"/>\n     <use xlink:href=\"#mdfd8ac55fd\" x=\"240.64481\" y=\"209.315054\" style=\"fill: #dd8452; stroke: #333333\"/>\n    </g>\n   </g>\n   <g id=\"patch_3\">\n    <path d=\"M 59.024844 244.078125 \nL 59.024844 22.318125 \n\" style=\"fill: none; stroke: #ffffff; stroke-width: 1.25; stroke-linejoin: miter; stroke-linecap: square\"/>\n   </g>\n   <g id=\"patch_4\">\n    <path d=\"M 282.224844 244.078125 \nL 282.224844 22.318125 \n\" style=\"fill: none; stroke: #ffffff; stroke-width: 1.25; stroke-linejoin: miter; stroke-linecap: square\"/>\n   </g>\n   <g id=\"patch_5\">\n    <path d=\"M 59.024844 244.078125 \nL 282.224844 244.078125 \n\" style=\"fill: none; stroke: #ffffff; stroke-width: 1.25; stroke-linejoin: miter; stroke-linecap: square\"/>\n   </g>\n   <g id=\"patch_6\">\n    <path d=\"M 59.024844 22.318125 \nL 282.224844 22.318125 \n\" style=\"fill: none; stroke: #ffffff; stroke-width: 1.25; stroke-linejoin: miter; stroke-linecap: square\"/>\n   </g>\n   <g id=\"text_14\">\n    <!-- Dataset samples -->\n    <g style=\"fill: #262626\" transform=\"translate(120.282031 16.318125) scale(0.12 -0.12)\">\n     <defs>\n      <path id=\"DejaVuSans-44\" d=\"M 1259 4147 \nL 1259 519 \nL 2022 519 \nQ 2988 519 3436 956 \nQ 3884 1394 3884 2338 \nQ 3884 3275 3436 3711 \nQ 2988 4147 2022 4147 \nL 1259 4147 \nz\nM 628 4666 \nL 1925 4666 \nQ 3281 4666 3915 4102 \nQ 4550 3538 4550 2338 \nQ 4550 1131 3912 565 \nQ 3275 0 1925 0 \nL 628 0 \nL 628 4666 \nz\n\" transform=\"scale(0.015625)\"/>\n      <path id=\"DejaVuSans-61\" d=\"M 2194 1759 \nQ 1497 1759 1228 1600 \nQ 959 1441 959 1056 \nQ 959 750 1161 570 \nQ 1363 391 1709 391 \nQ 2188 391 2477 730 \nQ 2766 1069 2766 1631 \nL 2766 1759 \nL 2194 1759 \nz\nM 3341 1997 \nL 3341 0 \nL 2766 0 \nL 2766 531 \nQ 2569 213 2275 61 \nQ 1981 -91 1556 -91 \nQ 1019 -91 701 211 \nQ 384 513 384 1019 \nQ 384 1609 779 1909 \nQ 1175 2209 1959 2209 \nL 2766 2209 \nL 2766 2266 \nQ 2766 2663 2505 2880 \nQ 2244 3097 1772 3097 \nQ 1472 3097 1187 3025 \nQ 903 2953 641 2809 \nL 641 3341 \nQ 956 3463 1253 3523 \nQ 1550 3584 1831 3584 \nQ 2591 3584 2966 3190 \nQ 3341 2797 3341 1997 \nz\n\" transform=\"scale(0.015625)\"/>\n      <path id=\"DejaVuSans-74\" d=\"M 1172 4494 \nL 1172 3500 \nL 2356 3500 \nL 2356 3053 \nL 1172 3053 \nL 1172 1153 \nQ 1172 725 1289 603 \nQ 1406 481 1766 481 \nL 2356 481 \nL 2356 0 \nL 1766 0 \nQ 1100 0 847 248 \nQ 594 497 594 1153 \nL 594 3053 \nL 172 3053 \nL 172 3500 \nL 594 3500 \nL 594 4494 \nL 1172 4494 \nz\n\" transform=\"scale(0.015625)\"/>\n      <path id=\"DejaVuSans-73\" d=\"M 2834 3397 \nL 2834 2853 \nQ 2591 2978 2328 3040 \nQ 2066 3103 1784 3103 \nQ 1356 3103 1142 2972 \nQ 928 2841 928 2578 \nQ 928 2378 1081 2264 \nQ 1234 2150 1697 2047 \nL 1894 2003 \nQ 2506 1872 2764 1633 \nQ 3022 1394 3022 966 \nQ 3022 478 2636 193 \nQ 2250 -91 1575 -91 \nQ 1294 -91 989 -36 \nQ 684 19 347 128 \nL 347 722 \nQ 666 556 975 473 \nQ 1284 391 1588 391 \nQ 1994 391 2212 530 \nQ 2431 669 2431 922 \nQ 2431 1156 2273 1281 \nQ 2116 1406 1581 1522 \nL 1381 1569 \nQ 847 1681 609 1914 \nQ 372 2147 372 2553 \nQ 372 3047 722 3315 \nQ 1072 3584 1716 3584 \nQ 2034 3584 2315 3537 \nQ 2597 3491 2834 3397 \nz\n\" transform=\"scale(0.015625)\"/>\n      <path id=\"DejaVuSans-65\" d=\"M 3597 1894 \nL 3597 1613 \nL 953 1613 \nQ 991 1019 1311 708 \nQ 1631 397 2203 397 \nQ 2534 397 2845 478 \nQ 3156 559 3463 722 \nL 3463 178 \nQ 3153 47 2828 -22 \nQ 2503 -91 2169 -91 \nQ 1331 -91 842 396 \nQ 353 884 353 1716 \nQ 353 2575 817 3079 \nQ 1281 3584 2069 3584 \nQ 2775 3584 3186 3129 \nQ 3597 2675 3597 1894 \nz\nM 3022 2063 \nQ 3016 2534 2758 2815 \nQ 2500 3097 2075 3097 \nQ 1594 3097 1305 2825 \nQ 1016 2553 972 2059 \nL 3022 2063 \nz\n\" transform=\"scale(0.015625)\"/>\n      <path id=\"DejaVuSans-20\" transform=\"scale(0.015625)\"/>\n      <path id=\"DejaVuSans-6d\" d=\"M 3328 2828 \nQ 3544 3216 3844 3400 \nQ 4144 3584 4550 3584 \nQ 5097 3584 5394 3201 \nQ 5691 2819 5691 2113 \nL 5691 0 \nL 5113 0 \nL 5113 2094 \nQ 5113 2597 4934 2840 \nQ 4756 3084 4391 3084 \nQ 3944 3084 3684 2787 \nQ 3425 2491 3425 1978 \nL 3425 0 \nL 2847 0 \nL 2847 2094 \nQ 2847 2600 2669 2842 \nQ 2491 3084 2119 3084 \nQ 1678 3084 1418 2786 \nQ 1159 2488 1159 1978 \nL 1159 0 \nL 581 0 \nL 581 3500 \nL 1159 3500 \nL 1159 2956 \nQ 1356 3278 1631 3431 \nQ 1906 3584 2284 3584 \nQ 2666 3584 2933 3390 \nQ 3200 3197 3328 2828 \nz\n\" transform=\"scale(0.015625)\"/>\n      <path id=\"DejaVuSans-70\" d=\"M 1159 525 \nL 1159 -1331 \nL 581 -1331 \nL 581 3500 \nL 1159 3500 \nL 1159 2969 \nQ 1341 3281 1617 3432 \nQ 1894 3584 2278 3584 \nQ 2916 3584 3314 3078 \nQ 3713 2572 3713 1747 \nQ 3713 922 3314 415 \nQ 2916 -91 2278 -91 \nQ 1894 -91 1617 61 \nQ 1341 213 1159 525 \nz\nM 3116 1747 \nQ 3116 2381 2855 2742 \nQ 2594 3103 2138 3103 \nQ 1681 3103 1420 2742 \nQ 1159 2381 1159 1747 \nQ 1159 1113 1420 752 \nQ 1681 391 2138 391 \nQ 2594 391 2855 752 \nQ 3116 1113 3116 1747 \nz\n\" transform=\"scale(0.015625)\"/>\n      <path id=\"DejaVuSans-6c\" d=\"M 603 4863 \nL 1178 4863 \nL 1178 0 \nL 603 0 \nL 603 4863 \nz\n\" transform=\"scale(0.015625)\"/>\n     </defs>\n     <use xlink:href=\"#DejaVuSans-44\"/>\n     <use xlink:href=\"#DejaVuSans-61\" transform=\"translate(77.001953 0)\"/>\n     <use xlink:href=\"#DejaVuSans-74\" transform=\"translate(138.28125 0)\"/>\n     <use xlink:href=\"#DejaVuSans-61\" transform=\"translate(177.490234 0)\"/>\n     <use xlink:href=\"#DejaVuSans-73\" transform=\"translate(238.769531 0)\"/>\n     <use xlink:href=\"#DejaVuSans-65\" transform=\"translate(290.869141 0)\"/>\n     <use xlink:href=\"#DejaVuSans-74\" transform=\"translate(352.392578 0)\"/>\n     <use xlink:href=\"#DejaVuSans-20\" transform=\"translate(391.601562 0)\"/>\n     <use xlink:href=\"#DejaVuSans-73\" transform=\"translate(423.388672 0)\"/>\n     <use xlink:href=\"#DejaVuSans-61\" transform=\"translate(475.488281 0)\"/>\n     <use xlink:href=\"#DejaVuSans-6d\" transform=\"translate(536.767578 0)\"/>\n     <use xlink:href=\"#DejaVuSans-70\" transform=\"translate(634.179688 0)\"/>\n     <use xlink:href=\"#DejaVuSans-6c\" transform=\"translate(697.65625 0)\"/>\n     <use xlink:href=\"#DejaVuSans-65\" transform=\"translate(725.439453 0)\"/>\n     <use xlink:href=\"#DejaVuSans-73\" transform=\"translate(786.962891 0)\"/>\n    </g>\n   </g>\n   <g id=\"legend_1\">\n    <g id=\"patch_7\">\n     <path d=\"M 199.891562 150.994063 \nL 274.524844 150.994063 \nQ 276.724844 150.994063 276.724844 148.794063 \nL 276.724844 117.602188 \nQ 276.724844 115.402188 274.524844 115.402188 \nL 199.891562 115.402188 \nQ 197.691562 115.402188 197.691562 117.602188 \nL 197.691562 148.794063 \nQ 197.691562 150.994063 199.891562 150.994063 \nz\n\" style=\"fill: #eaeaf2; opacity: 0.8; stroke: #cccccc; stroke-linejoin: miter\"/>\n    </g>\n    <g id=\"PathCollection_3\">\n     <g>\n      <use xlink:href=\"#m73bb2b67f3\" x=\"213.091562\" y=\"125.272969\" style=\"fill: #4c72b0; stroke: #333333\"/>\n     </g>\n    </g>\n    <g id=\"text_15\">\n     <!-- Class 0 -->\n     <g style=\"fill: #262626\" transform=\"translate(232.891562 128.160469) scale(0.11 -0.11)\">\n      <defs>\n       <path id=\"DejaVuSans-43\" d=\"M 4122 4306 \nL 4122 3641 \nQ 3803 3938 3442 4084 \nQ 3081 4231 2675 4231 \nQ 1875 4231 1450 3742 \nQ 1025 3253 1025 2328 \nQ 1025 1406 1450 917 \nQ 1875 428 2675 428 \nQ 3081 428 3442 575 \nQ 3803 722 4122 1019 \nL 4122 359 \nQ 3791 134 3420 21 \nQ 3050 -91 2638 -91 \nQ 1578 -91 968 557 \nQ 359 1206 359 2328 \nQ 359 3453 968 4101 \nQ 1578 4750 2638 4750 \nQ 3056 4750 3426 4639 \nQ 3797 4528 4122 4306 \nz\n\" transform=\"scale(0.015625)\"/>\n      </defs>\n      <use xlink:href=\"#DejaVuSans-43\"/>\n      <use xlink:href=\"#DejaVuSans-6c\" transform=\"translate(69.824219 0)\"/>\n      <use xlink:href=\"#DejaVuSans-61\" transform=\"translate(97.607422 0)\"/>\n      <use xlink:href=\"#DejaVuSans-73\" transform=\"translate(158.886719 0)\"/>\n      <use xlink:href=\"#DejaVuSans-73\" transform=\"translate(210.986328 0)\"/>\n      <use xlink:href=\"#DejaVuSans-20\" transform=\"translate(263.085938 0)\"/>\n      <use xlink:href=\"#DejaVuSans-30\" transform=\"translate(294.873047 0)\"/>\n     </g>\n    </g>\n    <g id=\"PathCollection_4\">\n     <g>\n      <use xlink:href=\"#mdfd8ac55fd\" x=\"213.091562\" y=\"141.418906\" style=\"fill: #dd8452; stroke: #333333\"/>\n     </g>\n    </g>\n    <g id=\"text_16\">\n     <!-- Class 1 -->\n     <g style=\"fill: #262626\" transform=\"translate(232.891562 144.306406) scale(0.11 -0.11)\">\n      <use xlink:href=\"#DejaVuSans-43\"/>\n      <use xlink:href=\"#DejaVuSans-6c\" transform=\"translate(69.824219 0)\"/>\n      <use xlink:href=\"#DejaVuSans-61\" transform=\"translate(97.607422 0)\"/>\n      <use xlink:href=\"#DejaVuSans-73\" transform=\"translate(158.886719 0)\"/>\n      <use xlink:href=\"#DejaVuSans-73\" transform=\"translate(210.986328 0)\"/>\n      <use xlink:href=\"#DejaVuSans-20\" transform=\"translate(263.085938 0)\"/>\n      <use xlink:href=\"#DejaVuSans-31\" transform=\"translate(294.873047 0)\"/>\n     </g>\n    </g>\n   </g>\n  </g>\n </g>\n <defs>\n  <clipPath id=\"pa889faaa17\">\n   <rect x=\"59.024844\" y=\"22.318125\" width=\"223.2\" height=\"221.76\"/>\n  </clipPath>\n </defs>\n</svg>\n",
            "application/pdf": "[encoded data removed]"
          },
          "metadata": {}
        }
      ]
    },
    {
      "cell_type": "code",
      "source": [
        "def numpy_collate(batch):\n",
        "    if isinstance(batch[0], np.ndarray):\n",
        "        return np.stack(batch)\n",
        "    elif isinstance(batch[0], (tuple,list)):\n",
        "        transposed = zip(*batch)\n",
        "        return [numpy_collate(samples) for samples in transposed]\n",
        "    else:\n",
        "        return np.array(batch)\n",
        "\n",
        "data_loader = data.DataLoader(dataset, batch_size=8, shuffle=True, collate_fn=numpy_collate)"
      ],
      "metadata": {
        "id": "1rgm66yyl3Sl"
      },
      "execution_count": 65,
      "outputs": []
    },
    {
      "cell_type": "code",
      "source": [
        "# next(iter(...)) catches the first batch of the data loader\n",
        "# If shuffle is True, this will return a different batch every time we run this cell\n",
        "# For iterating over the whole dataset, we can simple use \"for batch in data_loader: ...\"\n",
        "data_inputs, data_labels = next(iter(data_loader))\n",
        "\n",
        "# The shape of the outputs are [batch_size, d_1,...,d_N] where d_1,...,d_N are the\n",
        "# dimensions of the data point returned from the dataset class\n",
        "print(\"Data inputs\", data_inputs.shape, \"\\n\", data_inputs)\n",
        "print(\"Data labels\", data_labels.shape, \"\\n\", data_labels)"
      ],
      "metadata": {
        "colab": {
          "base_uri": "https://localhost:8080/"
        },
        "id": "wqPeHuC9mg4i",
        "outputId": "67d528a3-879d-436c-f893-8d715cd12cd8"
      },
      "execution_count": 66,
      "outputs": [
        {
          "output_type": "stream",
          "name": "stdout",
          "text": [
            "Data inputs (8, 2) \n",
            " [[-0.08254972 -0.03213858]\n",
            " [ 1.0005244   0.00469806]\n",
            " [ 0.93481636  0.00473987]\n",
            " [ 1.0097677  -0.07730098]\n",
            " [ 0.7528356   0.9203105 ]\n",
            " [ 0.15231241  1.0538911 ]\n",
            " [ 0.9549934   0.06228499]\n",
            " [ 1.0276691   1.0827184 ]]\n",
            "Data labels (8,) \n",
            " [0 1 1 1 0 1 1 0]\n"
          ]
        }
      ]
    },
    {
      "cell_type": "markdown",
      "source": [
        "### Optimization"
      ],
      "metadata": {
        "id": "PyLQvGfInX0e"
      }
    },
    {
      "cell_type": "code",
      "source": [
        "try:\n",
        "    import optax\n",
        "except ModuleNotFoundError: # Install optax if missing\n",
        "    !pip install --quiet optax\n",
        "    import optax"
      ],
      "metadata": {
        "id": "jV1l7C7JnDZd"
      },
      "execution_count": 67,
      "outputs": []
    },
    {
      "cell_type": "markdown",
      "source": [
        "Stochastic gradient descent optimizer"
      ],
      "metadata": {
        "id": "aydMiYjHnqFO"
      }
    },
    {
      "cell_type": "code",
      "source": [
        "optimizer = optax.sgd(learning_rate=0.1)"
      ],
      "metadata": {
        "id": "FKMRmT_xnn-6"
      },
      "execution_count": 68,
      "outputs": []
    },
    {
      "cell_type": "markdown",
      "source": [
        "Since gradients are obtained via function transformations, we dont have functions like backward(), step() like in pytorch. Instead we have a train_state object which bundles, parameters, optimizers and forward step of the model"
      ],
      "metadata": {
        "id": "LphVqWRWnzHl"
      }
    },
    {
      "cell_type": "code",
      "source": [
        "from flax.training import train_state\n",
        "\n",
        "model_state = train_state.TrainState.create(apply_fn=model.apply,\n",
        "                                            params=params,\n",
        "                                            tx=optimizer)"
      ],
      "metadata": {
        "id": "UKeC2t7EntOF"
      },
      "execution_count": 69,
      "outputs": []
    },
    {
      "cell_type": "markdown",
      "source": [
        "### Loss Function"
      ],
      "metadata": {
        "id": "FRAeCauEoARN"
      }
    },
    {
      "cell_type": "code",
      "source": [
        "def calculate_loss_acc(state, params, batch):\n",
        "    data_input, labels = batch\n",
        "    # Obtain the logits and predictions of the model for the input data\n",
        "    logits = state.apply_fn(params, data_input).squeeze(axis=-1)\n",
        "    pred_labels = (logits > 0).astype(jnp.float32)\n",
        "    # Calculate the loss and accuracy\n",
        "    loss = optax.sigmoid_binary_cross_entropy(logits, labels).mean()\n",
        "    acc = (pred_labels == labels).mean()\n",
        "    return loss, acc"
      ],
      "metadata": {
        "id": "4Ff-TqbDn_Dl"
      },
      "execution_count": 70,
      "outputs": []
    },
    {
      "cell_type": "markdown",
      "source": [
        "We explicilty add `params` as input argument since we want to calculate gradients with respect to them later"
      ],
      "metadata": {
        "id": "07WPsqivoPSu"
      }
    },
    {
      "cell_type": "code",
      "source": [
        "batch = next(iter(data_loader))\n",
        "calculate_loss_acc(model_state, model_state.params, batch)"
      ],
      "metadata": {
        "colab": {
          "base_uri": "https://localhost:8080/"
        },
        "id": "wmpgI__eoJX4",
        "outputId": "9a8f0d7c-bd64-4ac3-8fd8-df61b94efe62"
      },
      "execution_count": 71,
      "outputs": [
        {
          "output_type": "execute_result",
          "data": {
            "text/plain": [
              "(Array(0.6557293, dtype=float32), Array(0.375, dtype=float32))"
            ]
          },
          "metadata": {},
          "execution_count": 71
        }
      ]
    },
    {
      "cell_type": "markdown",
      "source": [
        "### Creating training and validation step\n",
        "\n",
        "- Inputs: training state and batch\n",
        "- We then calculate loss for input and take gradients of it\n",
        "- Finally, we update parameters with our optimizer and return new state"
      ],
      "metadata": {
        "id": "QAqHEz-Nonet"
      }
    },
    {
      "cell_type": "code",
      "source": [
        "@jax.jit\n",
        "def train_step(state, batch):\n",
        "    # Gradient function\n",
        "    grad_fn = jax.value_and_grad(calculate_loss_acc,  # Function to calculate the loss\n",
        "            argnums=1,  # Parameters are second argument of the function\n",
        "            has_aux=True  # Function has additional outputs, here accuracy\n",
        "            )\n",
        "    # Determine gradients for current model, parameters and batch\n",
        "    (loss, acc), grads = grad_fn(state, state.params, batch)\n",
        "    # Perform parameter update with gradients and optimizer\n",
        "    state = state.apply_gradients(grads=grads)\n",
        "    # Return state and any other value we might want\n",
        "    return state, loss, acc"
      ],
      "metadata": {
        "id": "q_dx4kyMoN8S"
      },
      "execution_count": 73,
      "outputs": []
    },
    {
      "cell_type": "code",
      "source": [
        "@jax.jit\n",
        "def eval_step(state, batch):\n",
        "    # Determine the accuracy\n",
        "    _, acc = calculate_loss_acc(state, state.params, batch)\n",
        "    return acc"
      ],
      "metadata": {
        "id": "La0rx06To470"
      },
      "execution_count": 74,
      "outputs": []
    },
    {
      "cell_type": "code",
      "source": [
        "train_dataset = XORDataset(size=2500, seed=42)\n",
        "train_data_loader = data.DataLoader(train_dataset, batch_size=128, shuffle=True, collate_fn=numpy_collate)"
      ],
      "metadata": {
        "id": "ihkRqEqBpQ0G"
      },
      "execution_count": 75,
      "outputs": []
    },
    {
      "cell_type": "code",
      "source": [
        "def train_model(state, data_loader, num_epochs=100):\n",
        "    for epoch in tqdm(range(num_epochs)):\n",
        "        for batch in data_loader:\n",
        "            state, loss, acc = train_step(state, batch)\n",
        "    return state"
      ],
      "metadata": {
        "id": "oFLdos6ppT1g"
      },
      "execution_count": 76,
      "outputs": []
    },
    {
      "cell_type": "code",
      "source": [
        "trained_model_state = train_model(model_state, train_data_loader, num_epochs=100)"
      ],
      "metadata": {
        "colab": {
          "base_uri": "https://localhost:8080/",
          "height": 49,
          "referenced_widgets": [
            "56df725713f146a3bee68ebb40925a55",
            "cb1807119e544dfc8a111a10e6a39b72",
            "14fe99ccca2b4d06a0a9ee4858e740a1",
            "207a144e238d47c1adf2ad0c6508b343",
            "70777c41f69d4f4198842ad9883a9ac1",
            "11200ff54c7d447898c291d3004ea87f",
            "eefe1e7f45414135a24f7124ae62c47e",
            "e4fa9dc6d5f44fb0a90895932df7f0b0",
            "fd6e1dcb50b34517bbb3639c64d2fe1e",
            "c39ced5eea0a46a98ecca509c007f19f",
            "1ddcac20c70447b4ba5d9e0f95839236"
          ]
        },
        "id": "pXyzriI2plJr",
        "outputId": "d7e0af08-fba8-43e6-9b04-a78679c4eea0"
      },
      "execution_count": 77,
      "outputs": [
        {
          "output_type": "display_data",
          "data": {
            "text/plain": [
              "  0%|          | 0/100 [00:00<?, ?it/s]"
            ],
            "application/vnd.jupyter.widget-view+json": {
              "version_major": 2,
              "version_minor": 0,
              "model_id": "56df725713f146a3bee68ebb40925a55"
            }
          },
          "metadata": {}
        }
      ]
    },
    {
      "cell_type": "markdown",
      "source": [
        "### Saving the model"
      ],
      "metadata": {
        "id": "84ftU7sQprhu"
      }
    },
    {
      "cell_type": "code",
      "source": [
        "from flax.training import checkpoints"
      ],
      "metadata": {
        "id": "barcxFbMpmv5"
      },
      "execution_count": 78,
      "outputs": []
    },
    {
      "cell_type": "code",
      "source": [
        "checkpoints.save_checkpoint(ckpt_dir='my_checkpoints/',  # Folder to save checkpoint in\n",
        "                            target=trained_model_state,  # What to save. To only save parameters, use model_state.params\n",
        "                            step=100,  # Training step or other metric to save best model on\n",
        "                            prefix='my_model',  # Checkpoint file name prefix\n",
        "                            overwrite=True   # Overwrite existing checkpoint files\n",
        "                           )"
      ],
      "metadata": {
        "id": "wuGmS-Woptw_"
      },
      "execution_count": 82,
      "outputs": []
    },
    {
      "cell_type": "code",
      "source": [
        "loaded_model_state = checkpoints.restore_checkpoint(\n",
        "                                             ckpt_dir='my_checkpoints/',   # Folder with the checkpoints\n",
        "                                             target=model_state,   # (optional) matching object to rebuild state in\n",
        "                                             prefix='my_model'  # Checkpoint file name prefix\n",
        "                                            )"
      ],
      "metadata": {
        "id": "PTmsqWKCp00U"
      },
      "execution_count": 81,
      "outputs": []
    },
    {
      "cell_type": "markdown",
      "source": [
        "### Evaluation"
      ],
      "metadata": {
        "id": "IbL-44w5qMn9"
      }
    },
    {
      "cell_type": "code",
      "source": [
        "test_dataset = XORDataset(size=500, seed=123)\n",
        "test_data_loader = data.DataLoader(test_dataset,\n",
        "                                   batch_size=128,\n",
        "                                   shuffle=False,\n",
        "                                   drop_last=False,\n",
        "                                   collate_fn=numpy_collate)"
      ],
      "metadata": {
        "id": "xEztwLm5qGLO"
      },
      "execution_count": 83,
      "outputs": []
    },
    {
      "cell_type": "code",
      "source": [
        "def eval_model(state, data_loader):\n",
        "    all_accs, batch_sizes = [], []\n",
        "    for batch in data_loader:\n",
        "        batch_acc = eval_step(state, batch)\n",
        "        all_accs.append(batch_acc)\n",
        "        batch_sizes.append(batch[0].shape[0])\n",
        "    # Weighted average since some batches might be smaller\n",
        "    acc = sum([a*b for a,b in zip(all_accs, batch_sizes)]) / sum(batch_sizes)\n",
        "    print(f\"Accuracy of the model: {100.0*acc:4.2f}%\")"
      ],
      "metadata": {
        "id": "OVPuEkCoqQ1w"
      },
      "execution_count": 84,
      "outputs": []
    },
    {
      "cell_type": "code",
      "source": [
        "eval_model(trained_model_state, test_data_loader)"
      ],
      "metadata": {
        "colab": {
          "base_uri": "https://localhost:8080/"
        },
        "id": "jErSlMBfqS9s",
        "outputId": "49ed146c-4b5b-4d9c-b6f3-10add3c1c7e0"
      },
      "execution_count": 85,
      "outputs": [
        {
          "output_type": "stream",
          "name": "stdout",
          "text": [
            "Accuracy of the model: 100.00%\n"
          ]
        }
      ]
    },
    {
      "cell_type": "markdown",
      "source": [
        "### Binding model parameters\n",
        "\n",
        "- Bit annoying to write model.apply(params, ...) and keep track of model and params separately. We bind flex's module to specific params to simplify our application"
      ],
      "metadata": {
        "id": "oSFvXQwzqZ2G"
      }
    },
    {
      "cell_type": "code",
      "source": [
        "trained_model = model.bind(trained_model_state.params)"
      ],
      "metadata": {
        "id": "7P0N4kZOqUdu"
      },
      "execution_count": 86,
      "outputs": []
    },
    {
      "cell_type": "code",
      "source": [
        "data_input, labels = next(iter(data_loader))\n",
        "out = trained_model(data_input)  # No explicit parameter passing necessary anymore\n",
        "out.shape"
      ],
      "metadata": {
        "colab": {
          "base_uri": "https://localhost:8080/"
        },
        "id": "V_-ukl4tqpmJ",
        "outputId": "1323eac9-c6c3-41c7-9e56-4c38ec30bf73"
      },
      "execution_count": 87,
      "outputs": [
        {
          "output_type": "execute_result",
          "data": {
            "text/plain": [
              "(8, 1)"
            ]
          },
          "metadata": {},
          "execution_count": 87
        }
      ]
    },
    {
      "cell_type": "markdown",
      "source": [
        "###Visualizing the classification boundaries"
      ],
      "metadata": {
        "id": "BWWSaQIqrMnN"
      }
    },
    {
      "cell_type": "code",
      "source": [
        "def visualize_classification(model, data, label):\n",
        "    data_0 = data[label == 0]\n",
        "    data_1 = data[label == 1]\n",
        "\n",
        "    fig = plt.figure(figsize=(4,4), dpi=500)\n",
        "    plt.scatter(data_0[:,0], data_0[:,1], edgecolor=\"#333\", label=\"Class 0\")\n",
        "    plt.scatter(data_1[:,0], data_1[:,1], edgecolor=\"#333\", label=\"Class 1\")\n",
        "    plt.title(\"Dataset samples\")\n",
        "    plt.ylabel(r\"$x_2$\")\n",
        "    plt.xlabel(r\"$x_1$\")\n",
        "    plt.legend()\n",
        "\n",
        "    # Let's make use of a lot of operations we have learned above\n",
        "    c0 = np.array(to_rgba(\"C0\"))\n",
        "    c1 = np.array(to_rgba(\"C1\"))\n",
        "    x1 = jnp.arange(-0.5, 1.5, step=0.01)\n",
        "    x2 = jnp.arange(-0.5, 1.5, step=0.01)\n",
        "    xx1, xx2 = jnp.meshgrid(x1, x2, indexing='ij')  # Meshgrid function as in numpy\n",
        "    model_inputs = np.stack([xx1, xx2], axis=-1)\n",
        "    logits = model(model_inputs)\n",
        "    preds = nn.sigmoid(logits)\n",
        "    output_image = (1 - preds) * c0[None,None] + preds * c1[None,None]  # Specifying \"None\" in a dimension creates a new one\n",
        "    output_image = jax.device_get(output_image)  # Convert to numpy array. This only works for tensors on CPU, hence first push to CPU\n",
        "    plt.imshow(output_image, origin='lower', extent=(-0.5, 1.5, -0.5, 1.5))\n",
        "    plt.grid(False)\n",
        "    return fig\n",
        "\n",
        "_ = visualize_classification(trained_model, dataset.data, dataset.label)\n",
        "plt.show()"
      ],
      "metadata": {
        "colab": {
          "base_uri": "https://localhost:8080/",
          "height": 404
        },
        "id": "NMgU_mUtrJDO",
        "outputId": "37daaf56-d412-402d-dfd6-670d7b440758"
      },
      "execution_count": 88,
      "outputs": [
        {
          "output_type": "display_data",
          "data": {
            "text/plain": [
              "<Figure size 2000x2000 with 1 Axes>"
            ],
            "image/svg+xml": "<?xml version=\"1.0\" encoding=\"utf-8\" standalone=\"no\"?>\n<!DOCTYPE svg PUBLIC \"-//W3C//DTD SVG 1.1//EN\"\n  \"http://www.w3.org/Graphics/SVG/1.1/DTD/svg11.dtd\">\n<svg xmlns:xlink=\"http://www.w3.org/1999/xlink\" width=\"303.730313pt\" height=\"287.037813pt\" viewBox=\"0 0 303.730313 287.037813\" xmlns=\"http://www.w3.org/2000/svg\" version=\"1.1\">\n <metadata>\n  <rdf:RDF xmlns:dc=\"http://purl.org/dc/elements/1.1/\" xmlns:cc=\"http://creativecommons.org/ns#\" xmlns:rdf=\"http://www.w3.org/1999/02/22-rdf-syntax-ns#\">\n   <cc:Work>\n    <dc:type rdf:resource=\"http://purl.org/dc/dcmitype/StillImage\"/>\n    <dc:date>2025-06-22T03:27:16.032061</dc:date>\n    <dc:format>image/svg+xml</dc:format>\n    <dc:creator>\n     <cc:Agent>\n      <dc:title>Matplotlib v3.10.0, https://matplotlib.org/</dc:title>\n     </cc:Agent>\n    </dc:creator>\n   </cc:Work>\n  </rdf:RDF>\n </metadata>\n <defs>\n  <style type=\"text/css\">*{stroke-linejoin: round; stroke-linecap: butt}</style>\n </defs>\n <g id=\"figure_1\">\n  <g id=\"patch_1\">\n   <path d=\"M 0 287.037813 \nL 303.730313 287.037813 \nL 303.730313 0 \nL 0 0 \nz\n\" style=\"fill: #ffffff\"/>\n  </g>\n  <g id=\"axes_1\">\n   <g id=\"patch_2\">\n    <path d=\"M 66.023594 244.078125 \nL 287.783594 244.078125 \nL 287.783594 22.318125 \nL 66.023594 22.318125 \nz\n\" style=\"fill: #eaeaf2\"/>\n   </g>\n   <g clip-path=\"url(#pf7d7c7f2e8)\">\n    <image xlink:href=\"data:image/png;base64,\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\" id=\"image6817731328\" transform=\"scale(1 -1) translate(0 -221.904)\" x=\"66.023594\" y=\"-22.174125\" width=\"221.904\" height=\"221.904\"/>\n   </g>\n   <g id=\"matplotlib.axis_1\">\n    <g id=\"xtick_1\">\n     <g id=\"text_1\">\n      <!-- −0.5 -->\n      <g style=\"fill: #262626\" transform=\"translate(52.668047 261.936406) scale(0.11 -0.11)\">\n       <defs>\n        <path id=\"DejaVuSans-2212\" d=\"M 678 2272 \nL 4684 2272 \nL 4684 1741 \nL 678 1741 \nL 678 2272 \nz\n\" transform=\"scale(0.015625)\"/>\n        <path id=\"DejaVuSans-30\" d=\"M 2034 4250 \nQ 1547 4250 1301 3770 \nQ 1056 3291 1056 2328 \nQ 1056 1369 1301 889 \nQ 1547 409 2034 409 \nQ 2525 409 2770 889 \nQ 3016 1369 3016 2328 \nQ 3016 3291 2770 3770 \nQ 2525 4250 2034 4250 \nz\nM 2034 4750 \nQ 2819 4750 3233 4129 \nQ 3647 3509 3647 2328 \nQ 3647 1150 3233 529 \nQ 2819 -91 2034 -91 \nQ 1250 -91 836 529 \nQ 422 1150 422 2328 \nQ 422 3509 836 4129 \nQ 1250 4750 2034 4750 \nz\n\" transform=\"scale(0.015625)\"/>\n        <path id=\"DejaVuSans-2e\" d=\"M 684 794 \nL 1344 794 \nL 1344 0 \nL 684 0 \nL 684 794 \nz\n\" transform=\"scale(0.015625)\"/>\n        <path id=\"DejaVuSans-35\" d=\"M 691 4666 \nL 3169 4666 \nL 3169 4134 \nL 1269 4134 \nL 1269 2991 \nQ 1406 3038 1543 3061 \nQ 1681 3084 1819 3084 \nQ 2600 3084 3056 2656 \nQ 3513 2228 3513 1497 \nQ 3513 744 3044 326 \nQ 2575 -91 1722 -91 \nQ 1428 -91 1123 -41 \nQ 819 9 494 109 \nL 494 744 \nQ 775 591 1075 516 \nQ 1375 441 1709 441 \nQ 2250 441 2565 725 \nQ 2881 1009 2881 1497 \nQ 2881 1984 2565 2268 \nQ 2250 2553 1709 2553 \nQ 1456 2553 1204 2497 \nQ 953 2441 691 2322 \nL 691 4666 \nz\n\" transform=\"scale(0.015625)\"/>\n       </defs>\n       <use xlink:href=\"#DejaVuSans-2212\"/>\n       <use xlink:href=\"#DejaVuSans-30\" transform=\"translate(83.789062 0)\"/>\n       <use xlink:href=\"#DejaVuSans-2e\" transform=\"translate(147.412109 0)\"/>\n       <use xlink:href=\"#DejaVuSans-35\" transform=\"translate(179.199219 0)\"/>\n      </g>\n     </g>\n    </g>\n    <g id=\"xtick_2\">\n     <g id=\"text_2\">\n      <!-- 0.0 -->\n      <g style=\"fill: #262626\" transform=\"translate(112.716875 261.936406) scale(0.11 -0.11)\">\n       <use xlink:href=\"#DejaVuSans-30\"/>\n       <use xlink:href=\"#DejaVuSans-2e\" transform=\"translate(63.623047 0)\"/>\n       <use xlink:href=\"#DejaVuSans-30\" transform=\"translate(95.410156 0)\"/>\n      </g>\n     </g>\n    </g>\n    <g id=\"xtick_3\">\n     <g id=\"text_3\">\n      <!-- 0.5 -->\n      <g style=\"fill: #262626\" transform=\"translate(168.156875 261.936406) scale(0.11 -0.11)\">\n       <use xlink:href=\"#DejaVuSans-30\"/>\n       <use xlink:href=\"#DejaVuSans-2e\" transform=\"translate(63.623047 0)\"/>\n       <use xlink:href=\"#DejaVuSans-35\" transform=\"translate(95.410156 0)\"/>\n      </g>\n     </g>\n    </g>\n    <g id=\"xtick_4\">\n     <g id=\"text_4\">\n      <!-- 1.0 -->\n      <g style=\"fill: #262626\" transform=\"translate(223.596875 261.936406) scale(0.11 -0.11)\">\n       <defs>\n        <path id=\"DejaVuSans-31\" d=\"M 794 531 \nL 1825 531 \nL 1825 4091 \nL 703 3866 \nL 703 4441 \nL 1819 4666 \nL 2450 4666 \nL 2450 531 \nL 3481 531 \nL 3481 0 \nL 794 0 \nL 794 531 \nz\n\" transform=\"scale(0.015625)\"/>\n       </defs>\n       <use xlink:href=\"#DejaVuSans-31\"/>\n       <use xlink:href=\"#DejaVuSans-2e\" transform=\"translate(63.623047 0)\"/>\n       <use xlink:href=\"#DejaVuSans-30\" transform=\"translate(95.410156 0)\"/>\n      </g>\n     </g>\n    </g>\n    <g id=\"xtick_5\">\n     <g id=\"text_5\">\n      <!-- 1.5 -->\n      <g style=\"fill: #262626\" transform=\"translate(279.036875 261.936406) scale(0.11 -0.11)\">\n       <use xlink:href=\"#DejaVuSans-31\"/>\n       <use xlink:href=\"#DejaVuSans-2e\" transform=\"translate(63.623047 0)\"/>\n       <use xlink:href=\"#DejaVuSans-35\" transform=\"translate(95.410156 0)\"/>\n      </g>\n     </g>\n    </g>\n    <g id=\"text_6\">\n     <!-- $x_1$ -->\n     <g style=\"fill: #262626\" transform=\"translate(170.483594 277.342188) scale(0.12 -0.12)\">\n      <defs>\n       <path id=\"DejaVuSans-Oblique-78\" d=\"M 3841 3500 \nL 2234 1784 \nL 3219 0 \nL 2559 0 \nL 1819 1388 \nL 531 0 \nL -166 0 \nL 1556 1844 \nL 641 3500 \nL 1300 3500 \nL 1972 2234 \nL 3144 3500 \nL 3841 3500 \nz\n\" transform=\"scale(0.015625)\"/>\n      </defs>\n      <use xlink:href=\"#DejaVuSans-Oblique-78\" transform=\"translate(0 0.3125)\"/>\n      <use xlink:href=\"#DejaVuSans-31\" transform=\"translate(59.179688 -16.09375) scale(0.7)\"/>\n     </g>\n    </g>\n   </g>\n   <g id=\"matplotlib.axis_2\">\n    <g id=\"ytick_1\">\n     <g id=\"text_7\">\n      <!-- −0.50 -->\n      <g style=\"fill: #262626\" transform=\"translate(22.81375 248.257266) scale(0.11 -0.11)\">\n       <use xlink:href=\"#DejaVuSans-2212\"/>\n       <use xlink:href=\"#DejaVuSans-30\" transform=\"translate(83.789062 0)\"/>\n       <use xlink:href=\"#DejaVuSans-2e\" transform=\"translate(147.412109 0)\"/>\n       <use xlink:href=\"#DejaVuSans-35\" transform=\"translate(179.199219 0)\"/>\n       <use xlink:href=\"#DejaVuSans-30\" transform=\"translate(242.822266 0)\"/>\n      </g>\n     </g>\n    </g>\n    <g id=\"ytick_2\">\n     <g id=\"text_8\">\n      <!-- −0.25 -->\n      <g style=\"fill: #262626\" transform=\"translate(22.81375 220.537266) scale(0.11 -0.11)\">\n       <defs>\n        <path id=\"DejaVuSans-32\" d=\"M 1228 531 \nL 3431 531 \nL 3431 0 \nL 469 0 \nL 469 531 \nQ 828 903 1448 1529 \nQ 2069 2156 2228 2338 \nQ 2531 2678 2651 2914 \nQ 2772 3150 2772 3378 \nQ 2772 3750 2511 3984 \nQ 2250 4219 1831 4219 \nQ 1534 4219 1204 4116 \nQ 875 4013 500 3803 \nL 500 4441 \nQ 881 4594 1212 4672 \nQ 1544 4750 1819 4750 \nQ 2544 4750 2975 4387 \nQ 3406 4025 3406 3419 \nQ 3406 3131 3298 2873 \nQ 3191 2616 2906 2266 \nQ 2828 2175 2409 1742 \nQ 1991 1309 1228 531 \nz\n\" transform=\"scale(0.015625)\"/>\n       </defs>\n       <use xlink:href=\"#DejaVuSans-2212\"/>\n       <use xlink:href=\"#DejaVuSans-30\" transform=\"translate(83.789062 0)\"/>\n       <use xlink:href=\"#DejaVuSans-2e\" transform=\"translate(147.412109 0)\"/>\n       <use xlink:href=\"#DejaVuSans-32\" transform=\"translate(179.199219 0)\"/>\n       <use xlink:href=\"#DejaVuSans-35\" transform=\"translate(242.822266 0)\"/>\n      </g>\n     </g>\n    </g>\n    <g id=\"ytick_3\">\n     <g id=\"text_9\">\n      <!-- 0.00 -->\n      <g style=\"fill: #262626\" transform=\"translate(32.031406 192.817266) scale(0.11 -0.11)\">\n       <use xlink:href=\"#DejaVuSans-30\"/>\n       <use xlink:href=\"#DejaVuSans-2e\" transform=\"translate(63.623047 0)\"/>\n       <use xlink:href=\"#DejaVuSans-30\" transform=\"translate(95.410156 0)\"/>\n       <use xlink:href=\"#DejaVuSans-30\" transform=\"translate(159.033203 0)\"/>\n      </g>\n     </g>\n    </g>\n    <g id=\"ytick_4\">\n     <g id=\"text_10\">\n      <!-- 0.25 -->\n      <g style=\"fill: #262626\" transform=\"translate(32.031406 165.097266) scale(0.11 -0.11)\">\n       <use xlink:href=\"#DejaVuSans-30\"/>\n       <use xlink:href=\"#DejaVuSans-2e\" transform=\"translate(63.623047 0)\"/>\n       <use xlink:href=\"#DejaVuSans-32\" transform=\"translate(95.410156 0)\"/>\n       <use xlink:href=\"#DejaVuSans-35\" transform=\"translate(159.033203 0)\"/>\n      </g>\n     </g>\n    </g>\n    <g id=\"ytick_5\">\n     <g id=\"text_11\">\n      <!-- 0.50 -->\n      <g style=\"fill: #262626\" transform=\"translate(32.031406 137.377266) scale(0.11 -0.11)\">\n       <use xlink:href=\"#DejaVuSans-30\"/>\n       <use xlink:href=\"#DejaVuSans-2e\" transform=\"translate(63.623047 0)\"/>\n       <use xlink:href=\"#DejaVuSans-35\" transform=\"translate(95.410156 0)\"/>\n       <use xlink:href=\"#DejaVuSans-30\" transform=\"translate(159.033203 0)\"/>\n      </g>\n     </g>\n    </g>\n    <g id=\"ytick_6\">\n     <g id=\"text_12\">\n      <!-- 0.75 -->\n      <g style=\"fill: #262626\" transform=\"translate(32.031406 109.657266) scale(0.11 -0.11)\">\n       <defs>\n        <path id=\"DejaVuSans-37\" d=\"M 525 4666 \nL 3525 4666 \nL 3525 4397 \nL 1831 0 \nL 1172 0 \nL 2766 4134 \nL 525 4134 \nL 525 4666 \nz\n\" transform=\"scale(0.015625)\"/>\n       </defs>\n       <use xlink:href=\"#DejaVuSans-30\"/>\n       <use xlink:href=\"#DejaVuSans-2e\" transform=\"translate(63.623047 0)\"/>\n       <use xlink:href=\"#DejaVuSans-37\" transform=\"translate(95.410156 0)\"/>\n       <use xlink:href=\"#DejaVuSans-35\" transform=\"translate(159.033203 0)\"/>\n      </g>\n     </g>\n    </g>\n    <g id=\"ytick_7\">\n     <g id=\"text_13\">\n      <!-- 1.00 -->\n      <g style=\"fill: #262626\" transform=\"translate(32.031406 81.937266) scale(0.11 -0.11)\">\n       <use xlink:href=\"#DejaVuSans-31\"/>\n       <use xlink:href=\"#DejaVuSans-2e\" transform=\"translate(63.623047 0)\"/>\n       <use xlink:href=\"#DejaVuSans-30\" transform=\"translate(95.410156 0)\"/>\n       <use xlink:href=\"#DejaVuSans-30\" transform=\"translate(159.033203 0)\"/>\n      </g>\n     </g>\n    </g>\n    <g id=\"ytick_8\">\n     <g id=\"text_14\">\n      <!-- 1.25 -->\n      <g style=\"fill: #262626\" transform=\"translate(32.031406 54.217266) scale(0.11 -0.11)\">\n       <use xlink:href=\"#DejaVuSans-31\"/>\n       <use xlink:href=\"#DejaVuSans-2e\" transform=\"translate(63.623047 0)\"/>\n       <use xlink:href=\"#DejaVuSans-32\" transform=\"translate(95.410156 0)\"/>\n       <use xlink:href=\"#DejaVuSans-35\" transform=\"translate(159.033203 0)\"/>\n      </g>\n     </g>\n    </g>\n    <g id=\"ytick_9\">\n     <g id=\"text_15\">\n      <!-- 1.50 -->\n      <g style=\"fill: #262626\" transform=\"translate(32.031406 26.497266) scale(0.11 -0.11)\">\n       <use xlink:href=\"#DejaVuSans-31\"/>\n       <use xlink:href=\"#DejaVuSans-2e\" transform=\"translate(63.623047 0)\"/>\n       <use xlink:href=\"#DejaVuSans-35\" transform=\"translate(95.410156 0)\"/>\n       <use xlink:href=\"#DejaVuSans-30\" transform=\"translate(159.033203 0)\"/>\n      </g>\n     </g>\n    </g>\n    <g id=\"text_16\">\n     <!-- $x_2$ -->\n     <g style=\"fill: #262626\" transform=\"translate(16.318125 139.618125) rotate(-90) scale(0.12 -0.12)\">\n      <use xlink:href=\"#DejaVuSans-Oblique-78\" transform=\"translate(0 0.3125)\"/>\n      <use xlink:href=\"#DejaVuSans-32\" transform=\"translate(59.179688 -16.09375) scale(0.7)\"/>\n     </g>\n    </g>\n   </g>\n   <g id=\"PathCollection_1\">\n    <defs>\n     <path id=\"md937bf3ab0\" d=\"M 0 3 \nC 0.795609 3 1.55874 2.683901 2.12132 2.12132 \nC 2.683901 1.55874 3 0.795609 3 0 \nC 3 -0.795609 2.683901 -1.55874 2.12132 -2.12132 \nC 1.55874 -2.683901 0.795609 -3 0 -3 \nC -0.795609 -3 -1.55874 -2.683901 -2.12132 -2.12132 \nC -2.683901 -1.55874 -3 -0.795609 -3 0 \nC -3 0.795609 -2.683901 1.55874 -2.12132 2.12132 \nC -1.55874 2.683901 -0.795609 3 0 3 \nz\n\" style=\"stroke: #333333\"/>\n    </defs>\n    <g clip-path=\"url(#pf7d7c7f2e8)\">\n     <use xlink:href=\"#md937bf3ab0\" x=\"124.713181\" y=\"196.558853\" style=\"fill: #4c72b0; stroke: #333333\"/>\n     <use xlink:href=\"#md937bf3ab0\" x=\"108.25442\" y=\"181.358259\" style=\"fill: #4c72b0; stroke: #333333\"/>\n     <use xlink:href=\"#md937bf3ab0\" x=\"134.310102\" y=\"197.737851\" style=\"fill: #4c72b0; stroke: #333333\"/>\n     <use xlink:href=\"#md937bf3ab0\" x=\"132.145509\" y=\"184.06121\" style=\"fill: #4c72b0; stroke: #333333\"/>\n     <use xlink:href=\"#md937bf3ab0\" x=\"229.62273\" y=\"86.115549\" style=\"fill: #4c72b0; stroke: #333333\"/>\n     <use xlink:href=\"#md937bf3ab0\" x=\"235.41154\" y=\"68.586312\" style=\"fill: #4c72b0; stroke: #333333\"/>\n     <use xlink:href=\"#md937bf3ab0\" x=\"232.487762\" y=\"61.641336\" style=\"fill: #4c72b0; stroke: #333333\"/>\n     <use xlink:href=\"#md937bf3ab0\" x=\"229.409082\" y=\"47.596893\" style=\"fill: #4c72b0; stroke: #333333\"/>\n     <use xlink:href=\"#md937bf3ab0\" x=\"239.280996\" y=\"87.26229\" style=\"fill: #4c72b0; stroke: #333333\"/>\n     <use xlink:href=\"#md937bf3ab0\" x=\"109.589538\" y=\"183.288471\" style=\"fill: #4c72b0; stroke: #333333\"/>\n     <use xlink:href=\"#md937bf3ab0\" x=\"229.865841\" y=\"69.841288\" style=\"fill: #4c72b0; stroke: #333333\"/>\n     <use xlink:href=\"#md937bf3ab0\" x=\"116.512636\" y=\"179.142375\" style=\"fill: #4c72b0; stroke: #333333\"/>\n     <use xlink:href=\"#md937bf3ab0\" x=\"123.837465\" y=\"202.450877\" style=\"fill: #4c72b0; stroke: #333333\"/>\n     <use xlink:href=\"#md937bf3ab0\" x=\"234.263828\" y=\"73.485721\" style=\"fill: #4c72b0; stroke: #333333\"/>\n     <use xlink:href=\"#md937bf3ab0\" x=\"222.543381\" y=\"76.053621\" style=\"fill: #4c72b0; stroke: #333333\"/>\n     <use xlink:href=\"#md937bf3ab0\" x=\"236.310743\" y=\"71.540148\" style=\"fill: #4c72b0; stroke: #333333\"/>\n     <use xlink:href=\"#md937bf3ab0\" x=\"127.793628\" y=\"176.046973\" style=\"fill: #4c72b0; stroke: #333333\"/>\n     <use xlink:href=\"#md937bf3ab0\" x=\"132.041565\" y=\"181.415499\" style=\"fill: #4c72b0; stroke: #333333\"/>\n     <use xlink:href=\"#md937bf3ab0\" x=\"117.967889\" y=\"180.222675\" style=\"fill: #4c72b0; stroke: #333333\"/>\n     <use xlink:href=\"#md937bf3ab0\" x=\"258.008523\" y=\"98.46236\" style=\"fill: #4c72b0; stroke: #333333\"/>\n     <use xlink:href=\"#md937bf3ab0\" x=\"239.95285\" y=\"95.639917\" style=\"fill: #4c72b0; stroke: #333333\"/>\n     <use xlink:href=\"#md937bf3ab0\" x=\"224.412309\" y=\"70.222744\" style=\"fill: #4c72b0; stroke: #333333\"/>\n     <use xlink:href=\"#md937bf3ab0\" x=\"99.008812\" y=\"186.57072\" style=\"fill: #4c72b0; stroke: #333333\"/>\n     <use xlink:href=\"#md937bf3ab0\" x=\"223.556125\" y=\"79.030324\" style=\"fill: #4c72b0; stroke: #333333\"/>\n     <use xlink:href=\"#md937bf3ab0\" x=\"237.942892\" y=\"68.158633\" style=\"fill: #4c72b0; stroke: #333333\"/>\n     <use xlink:href=\"#md937bf3ab0\" x=\"219.034709\" y=\"81.467075\" style=\"fill: #4c72b0; stroke: #333333\"/>\n     <use xlink:href=\"#md937bf3ab0\" x=\"227.0774\" y=\"85.002242\" style=\"fill: #4c72b0; stroke: #333333\"/>\n     <use xlink:href=\"#md937bf3ab0\" x=\"251.918946\" y=\"73.267692\" style=\"fill: #4c72b0; stroke: #333333\"/>\n     <use xlink:href=\"#md937bf3ab0\" x=\"215.496818\" y=\"83.127313\" style=\"fill: #4c72b0; stroke: #333333\"/>\n     <use xlink:href=\"#md937bf3ab0\" x=\"246.391103\" y=\"85.604762\" style=\"fill: #4c72b0; stroke: #333333\"/>\n     <use xlink:href=\"#md937bf3ab0\" x=\"237.264667\" y=\"69.168984\" style=\"fill: #4c72b0; stroke: #333333\"/>\n     <use xlink:href=\"#md937bf3ab0\" x=\"229.543118\" y=\"91.593546\" style=\"fill: #4c72b0; stroke: #333333\"/>\n     <use xlink:href=\"#md937bf3ab0\" x=\"233.602271\" y=\"70.416426\" style=\"fill: #4c72b0; stroke: #333333\"/>\n     <use xlink:href=\"#md937bf3ab0\" x=\"145.114668\" y=\"210.282874\" style=\"fill: #4c72b0; stroke: #333333\"/>\n     <use xlink:href=\"#md937bf3ab0\" x=\"119.780601\" y=\"182.114864\" style=\"fill: #4c72b0; stroke: #333333\"/>\n     <use xlink:href=\"#md937bf3ab0\" x=\"124.579232\" y=\"195.542617\" style=\"fill: #4c72b0; stroke: #333333\"/>\n     <use xlink:href=\"#md937bf3ab0\" x=\"119.155934\" y=\"194.104519\" style=\"fill: #4c72b0; stroke: #333333\"/>\n     <use xlink:href=\"#md937bf3ab0\" x=\"236.302178\" y=\"85.441104\" style=\"fill: #4c72b0; stroke: #333333\"/>\n     <use xlink:href=\"#md937bf3ab0\" x=\"130.476609\" y=\"181.656801\" style=\"fill: #4c72b0; stroke: #333333\"/>\n     <use xlink:href=\"#md937bf3ab0\" x=\"129.749585\" y=\"181.87034\" style=\"fill: #4c72b0; stroke: #333333\"/>\n     <use xlink:href=\"#md937bf3ab0\" x=\"121.231837\" y=\"187.337199\" style=\"fill: #4c72b0; stroke: #333333\"/>\n     <use xlink:href=\"#md937bf3ab0\" x=\"130.61581\" y=\"179.61793\" style=\"fill: #4c72b0; stroke: #333333\"/>\n     <use xlink:href=\"#md937bf3ab0\" x=\"246.818743\" y=\"77.525238\" style=\"fill: #4c72b0; stroke: #333333\"/>\n     <use xlink:href=\"#md937bf3ab0\" x=\"245.18473\" y=\"68.980166\" style=\"fill: #4c72b0; stroke: #333333\"/>\n     <use xlink:href=\"#md937bf3ab0\" x=\"128.383834\" y=\"181.67103\" style=\"fill: #4c72b0; stroke: #333333\"/>\n     <use xlink:href=\"#md937bf3ab0\" x=\"121.327802\" y=\"198.586881\" style=\"fill: #4c72b0; stroke: #333333\"/>\n     <use xlink:href=\"#md937bf3ab0\" x=\"122.304115\" y=\"196.146494\" style=\"fill: #4c72b0; stroke: #333333\"/>\n     <use xlink:href=\"#md937bf3ab0\" x=\"112.310481\" y=\"192.201651\" style=\"fill: #4c72b0; stroke: #333333\"/>\n     <use xlink:href=\"#md937bf3ab0\" x=\"124.179783\" y=\"194.259111\" style=\"fill: #4c72b0; stroke: #333333\"/>\n     <use xlink:href=\"#md937bf3ab0\" x=\"116.240721\" y=\"186.065155\" style=\"fill: #4c72b0; stroke: #333333\"/>\n     <use xlink:href=\"#md937bf3ab0\" x=\"224.377487\" y=\"80.124828\" style=\"fill: #4c72b0; stroke: #333333\"/>\n     <use xlink:href=\"#md937bf3ab0\" x=\"124.910937\" y=\"172.279375\" style=\"fill: #4c72b0; stroke: #333333\"/>\n     <use xlink:href=\"#md937bf3ab0\" x=\"121.252742\" y=\"199.75417\" style=\"fill: #4c72b0; stroke: #333333\"/>\n     <use xlink:href=\"#md937bf3ab0\" x=\"235.921898\" y=\"86.93046\" style=\"fill: #4c72b0; stroke: #333333\"/>\n     <use xlink:href=\"#md937bf3ab0\" x=\"120.257661\" y=\"184.183945\" style=\"fill: #4c72b0; stroke: #333333\"/>\n     <use xlink:href=\"#md937bf3ab0\" x=\"129.11591\" y=\"193.086858\" style=\"fill: #4c72b0; stroke: #333333\"/>\n     <use xlink:href=\"#md937bf3ab0\" x=\"123.948331\" y=\"188.4985\" style=\"fill: #4c72b0; stroke: #333333\"/>\n     <use xlink:href=\"#md937bf3ab0\" x=\"137.553874\" y=\"178.00173\" style=\"fill: #4c72b0; stroke: #333333\"/>\n     <use xlink:href=\"#md937bf3ab0\" x=\"256.218076\" y=\"86.266478\" style=\"fill: #4c72b0; stroke: #333333\"/>\n     <use xlink:href=\"#md937bf3ab0\" x=\"242.01589\" y=\"75.725234\" style=\"fill: #4c72b0; stroke: #333333\"/>\n     <use xlink:href=\"#md937bf3ab0\" x=\"112.152758\" y=\"195.284191\" style=\"fill: #4c72b0; stroke: #333333\"/>\n     <use xlink:href=\"#md937bf3ab0\" x=\"208.793836\" y=\"83.5877\" style=\"fill: #4c72b0; stroke: #333333\"/>\n     <use xlink:href=\"#md937bf3ab0\" x=\"223.926333\" y=\"76.090565\" style=\"fill: #4c72b0; stroke: #333333\"/>\n     <use xlink:href=\"#md937bf3ab0\" x=\"236.132988\" y=\"56.955145\" style=\"fill: #4c72b0; stroke: #333333\"/>\n     <use xlink:href=\"#md937bf3ab0\" x=\"242.881889\" y=\"84.154835\" style=\"fill: #4c72b0; stroke: #333333\"/>\n     <use xlink:href=\"#md937bf3ab0\" x=\"120.193576\" y=\"174.913218\" style=\"fill: #4c72b0; stroke: #333333\"/>\n     <use xlink:href=\"#md937bf3ab0\" x=\"103.78458\" y=\"195.283995\" style=\"fill: #4c72b0; stroke: #333333\"/>\n     <use xlink:href=\"#md937bf3ab0\" x=\"109.625818\" y=\"190.216829\" style=\"fill: #4c72b0; stroke: #333333\"/>\n     <use xlink:href=\"#md937bf3ab0\" x=\"125.148291\" y=\"196.937344\" style=\"fill: #4c72b0; stroke: #333333\"/>\n     <use xlink:href=\"#md937bf3ab0\" x=\"245.419639\" y=\"77.009475\" style=\"fill: #4c72b0; stroke: #333333\"/>\n     <use xlink:href=\"#md937bf3ab0\" x=\"144.313166\" y=\"169.174906\" style=\"fill: #4c72b0; stroke: #333333\"/>\n     <use xlink:href=\"#md937bf3ab0\" x=\"229.583076\" y=\"66.985343\" style=\"fill: #4c72b0; stroke: #333333\"/>\n     <use xlink:href=\"#md937bf3ab0\" x=\"239.499528\" y=\"62.582743\" style=\"fill: #4c72b0; stroke: #333333\"/>\n     <use xlink:href=\"#md937bf3ab0\" x=\"229.356409\" y=\"69.802017\" style=\"fill: #4c72b0; stroke: #333333\"/>\n     <use xlink:href=\"#md937bf3ab0\" x=\"102.576489\" y=\"189.254038\" style=\"fill: #4c72b0; stroke: #333333\"/>\n     <use xlink:href=\"#md937bf3ab0\" x=\"98.539796\" y=\"189.626288\" style=\"fill: #4c72b0; stroke: #333333\"/>\n     <use xlink:href=\"#md937bf3ab0\" x=\"236.408436\" y=\"88.179515\" style=\"fill: #4c72b0; stroke: #333333\"/>\n     <use xlink:href=\"#md937bf3ab0\" x=\"110.533863\" y=\"183.049257\" style=\"fill: #4c72b0; stroke: #333333\"/>\n     <use xlink:href=\"#md937bf3ab0\" x=\"226.204733\" y=\"91.040198\" style=\"fill: #4c72b0; stroke: #333333\"/>\n     <use xlink:href=\"#md937bf3ab0\" x=\"254.128467\" y=\"77.367126\" style=\"fill: #4c72b0; stroke: #333333\"/>\n     <use xlink:href=\"#md937bf3ab0\" x=\"115.581397\" y=\"195.022798\" style=\"fill: #4c72b0; stroke: #333333\"/>\n     <use xlink:href=\"#md937bf3ab0\" x=\"250.582997\" y=\"80.519436\" style=\"fill: #4c72b0; stroke: #333333\"/>\n     <use xlink:href=\"#md937bf3ab0\" x=\"238.736457\" y=\"74.306977\" style=\"fill: #4c72b0; stroke: #333333\"/>\n     <use xlink:href=\"#md937bf3ab0\" x=\"155.602225\" y=\"176.224278\" style=\"fill: #4c72b0; stroke: #333333\"/>\n     <use xlink:href=\"#md937bf3ab0\" x=\"230.925244\" y=\"88.353158\" style=\"fill: #4c72b0; stroke: #333333\"/>\n     <use xlink:href=\"#md937bf3ab0\" x=\"103.651317\" y=\"186.38212\" style=\"fill: #4c72b0; stroke: #333333\"/>\n     <use xlink:href=\"#md937bf3ab0\" x=\"225.174396\" y=\"89.750326\" style=\"fill: #4c72b0; stroke: #333333\"/>\n     <use xlink:href=\"#md937bf3ab0\" x=\"140.17062\" y=\"178.862503\" style=\"fill: #4c72b0; stroke: #333333\"/>\n     <use xlink:href=\"#md937bf3ab0\" x=\"232.255192\" y=\"61.348506\" style=\"fill: #4c72b0; stroke: #333333\"/>\n     <use xlink:href=\"#md937bf3ab0\" x=\"109.962609\" y=\"190.7486\" style=\"fill: #4c72b0; stroke: #333333\"/>\n     <use xlink:href=\"#md937bf3ab0\" x=\"232.881603\" y=\"86.9717\" style=\"fill: #4c72b0; stroke: #333333\"/>\n     <use xlink:href=\"#md937bf3ab0\" x=\"124.462419\" y=\"189.195165\" style=\"fill: #4c72b0; stroke: #333333\"/>\n     <use xlink:href=\"#md937bf3ab0\" x=\"127.017763\" y=\"199.477257\" style=\"fill: #4c72b0; stroke: #333333\"/>\n     <use xlink:href=\"#md937bf3ab0\" x=\"233.444991\" y=\"69.426747\" style=\"fill: #4c72b0; stroke: #333333\"/>\n     <use xlink:href=\"#md937bf3ab0\" x=\"102.953228\" y=\"182.613347\" style=\"fill: #4c72b0; stroke: #333333\"/>\n     <use xlink:href=\"#md937bf3ab0\" x=\"224.996423\" y=\"71.431325\" style=\"fill: #4c72b0; stroke: #333333\"/>\n     <use xlink:href=\"#md937bf3ab0\" x=\"223.880579\" y=\"97.77066\" style=\"fill: #4c72b0; stroke: #333333\"/>\n     <use xlink:href=\"#md937bf3ab0\" x=\"231.610898\" y=\"91.185872\" style=\"fill: #4c72b0; stroke: #333333\"/>\n     <use xlink:href=\"#md937bf3ab0\" x=\"132.621368\" y=\"195.034702\" style=\"fill: #4c72b0; stroke: #333333\"/>\n     <use xlink:href=\"#md937bf3ab0\" x=\"130.729748\" y=\"201.164315\" style=\"fill: #4c72b0; stroke: #333333\"/>\n     <use xlink:href=\"#md937bf3ab0\" x=\"127.338063\" y=\"172.654013\" style=\"fill: #4c72b0; stroke: #333333\"/>\n     <use xlink:href=\"#md937bf3ab0\" x=\"204.938002\" y=\"86.594097\" style=\"fill: #4c72b0; stroke: #333333\"/>\n     <use xlink:href=\"#md937bf3ab0\" x=\"236.458863\" y=\"84.455113\" style=\"fill: #4c72b0; stroke: #333333\"/>\n    </g>\n   </g>\n   <g id=\"PathCollection_2\">\n    <defs>\n     <path id=\"m008e546e72\" d=\"M 0 3 \nC 0.795609 3 1.55874 2.683901 2.12132 2.12132 \nC 2.683901 1.55874 3 0.795609 3 0 \nC 3 -0.795609 2.683901 -1.55874 2.12132 -2.12132 \nC 1.55874 -2.683901 0.795609 -3 0 -3 \nC -0.795609 -3 -1.55874 -2.683901 -2.12132 -2.12132 \nC -2.683901 -1.55874 -3 -0.795609 -3 0 \nC -3 0.795609 -2.683901 1.55874 -2.12132 2.12132 \nC -1.55874 2.683901 -0.795609 3 0 3 \nz\n\" style=\"stroke: #333333\"/>\n    </defs>\n    <g clip-path=\"url(#pf7d7c7f2e8)\">\n     <use xlink:href=\"#m008e546e72\" x=\"113.92348\" y=\"75.18289\" style=\"fill: #dd8452; stroke: #333333\"/>\n     <use xlink:href=\"#m008e546e72\" x=\"142.151302\" y=\"72.504264\" style=\"fill: #dd8452; stroke: #333333\"/>\n     <use xlink:href=\"#m008e546e72\" x=\"110.656323\" y=\"69.030936\" style=\"fill: #dd8452; stroke: #333333\"/>\n     <use xlink:href=\"#m008e546e72\" x=\"241.458596\" y=\"167.606485\" style=\"fill: #dd8452; stroke: #333333\"/>\n     <use xlink:href=\"#m008e546e72\" x=\"222.480655\" y=\"197.683829\" style=\"fill: #dd8452; stroke: #333333\"/>\n     <use xlink:href=\"#m008e546e72\" x=\"231.488691\" y=\"184.855432\" style=\"fill: #dd8452; stroke: #333333\"/>\n     <use xlink:href=\"#m008e546e72\" x=\"237.590846\" y=\"189.445652\" style=\"fill: #dd8452; stroke: #333333\"/>\n     <use xlink:href=\"#m008e546e72\" x=\"222.954346\" y=\"205.434752\" style=\"fill: #dd8452; stroke: #333333\"/>\n     <use xlink:href=\"#m008e546e72\" x=\"232.989012\" y=\"201.31138\" style=\"fill: #dd8452; stroke: #333333\"/>\n     <use xlink:href=\"#m008e546e72\" x=\"133.472466\" y=\"66.073571\" style=\"fill: #dd8452; stroke: #333333\"/>\n     <use xlink:href=\"#m008e546e72\" x=\"106.187995\" y=\"88.156727\" style=\"fill: #dd8452; stroke: #333333\"/>\n     <use xlink:href=\"#m008e546e72\" x=\"127.174305\" y=\"72.061265\" style=\"fill: #dd8452; stroke: #333333\"/>\n     <use xlink:href=\"#m008e546e72\" x=\"238.054438\" y=\"145.919037\" style=\"fill: #dd8452; stroke: #333333\"/>\n     <use xlink:href=\"#m008e546e72\" x=\"112.894508\" y=\"80.383972\" style=\"fill: #dd8452; stroke: #333333\"/>\n     <use xlink:href=\"#m008e546e72\" x=\"226.961882\" y=\"187.730305\" style=\"fill: #dd8452; stroke: #333333\"/>\n     <use xlink:href=\"#m008e546e72\" x=\"116.230813\" y=\"65.68384\" style=\"fill: #dd8452; stroke: #333333\"/>\n     <use xlink:href=\"#m008e546e72\" x=\"122.176331\" y=\"89.708161\" style=\"fill: #dd8452; stroke: #333333\"/>\n     <use xlink:href=\"#m008e546e72\" x=\"113.365289\" y=\"75.358027\" style=\"fill: #dd8452; stroke: #333333\"/>\n     <use xlink:href=\"#m008e546e72\" x=\"121.968894\" y=\"84.98307\" style=\"fill: #dd8452; stroke: #333333\"/>\n     <use xlink:href=\"#m008e546e72\" x=\"145.235645\" y=\"70.729228\" style=\"fill: #dd8452; stroke: #333333\"/>\n     <use xlink:href=\"#m008e546e72\" x=\"225.005708\" y=\"179.186344\" style=\"fill: #dd8452; stroke: #333333\"/>\n     <use xlink:href=\"#m008e546e72\" x=\"218.362914\" y=\"178.460871\" style=\"fill: #dd8452; stroke: #333333\"/>\n     <use xlink:href=\"#m008e546e72\" x=\"144.994061\" y=\"66.310145\" style=\"fill: #dd8452; stroke: #333333\"/>\n     <use xlink:href=\"#m008e546e72\" x=\"222.06579\" y=\"189.298142\" style=\"fill: #dd8452; stroke: #333333\"/>\n     <use xlink:href=\"#m008e546e72\" x=\"196.404423\" y=\"199.996535\" style=\"fill: #dd8452; stroke: #333333\"/>\n     <use xlink:href=\"#m008e546e72\" x=\"139.563771\" y=\"93.615532\" style=\"fill: #dd8452; stroke: #333333\"/>\n     <use xlink:href=\"#m008e546e72\" x=\"116.584381\" y=\"76.308475\" style=\"fill: #dd8452; stroke: #333333\"/>\n     <use xlink:href=\"#m008e546e72\" x=\"248.324436\" y=\"204.558965\" style=\"fill: #dd8452; stroke: #333333\"/>\n     <use xlink:href=\"#m008e546e72\" x=\"245.240747\" y=\"188.524661\" style=\"fill: #dd8452; stroke: #333333\"/>\n     <use xlink:href=\"#m008e546e72\" x=\"221.460628\" y=\"183.514322\" style=\"fill: #dd8452; stroke: #333333\"/>\n     <use xlink:href=\"#m008e546e72\" x=\"123.670768\" y=\"84.413331\" style=\"fill: #dd8452; stroke: #333333\"/>\n     <use xlink:href=\"#m008e546e72\" x=\"233.117556\" y=\"192.910482\" style=\"fill: #dd8452; stroke: #333333\"/>\n     <use xlink:href=\"#m008e546e72\" x=\"249.929344\" y=\"202.363023\" style=\"fill: #dd8452; stroke: #333333\"/>\n     <use xlink:href=\"#m008e546e72\" x=\"225.808717\" y=\"179.217737\" style=\"fill: #dd8452; stroke: #333333\"/>\n     <use xlink:href=\"#m008e546e72\" x=\"242.318356\" y=\"185.230788\" style=\"fill: #dd8452; stroke: #333333\"/>\n     <use xlink:href=\"#m008e546e72\" x=\"112.271697\" y=\"83.969413\" style=\"fill: #dd8452; stroke: #333333\"/>\n     <use xlink:href=\"#m008e546e72\" x=\"135.630342\" y=\"84.317468\" style=\"fill: #dd8452; stroke: #333333\"/>\n     <use xlink:href=\"#m008e546e72\" x=\"127.529809\" y=\"80.000037\" style=\"fill: #dd8452; stroke: #333333\"/>\n     <use xlink:href=\"#m008e546e72\" x=\"119.049944\" y=\"65.574885\" style=\"fill: #dd8452; stroke: #333333\"/>\n     <use xlink:href=\"#m008e546e72\" x=\"239.905093\" y=\"192.078363\" style=\"fill: #dd8452; stroke: #333333\"/>\n     <use xlink:href=\"#m008e546e72\" x=\"235.937944\" y=\"190.081151\" style=\"fill: #dd8452; stroke: #333333\"/>\n     <use xlink:href=\"#m008e546e72\" x=\"122.539085\" y=\"71.159023\" style=\"fill: #dd8452; stroke: #333333\"/>\n     <use xlink:href=\"#m008e546e72\" x=\"223.27116\" y=\"165.437735\" style=\"fill: #dd8452; stroke: #333333\"/>\n     <use xlink:href=\"#m008e546e72\" x=\"110.308873\" y=\"91.221045\" style=\"fill: #dd8452; stroke: #333333\"/>\n     <use xlink:href=\"#m008e546e72\" x=\"243.155725\" y=\"190.268697\" style=\"fill: #dd8452; stroke: #333333\"/>\n     <use xlink:href=\"#m008e546e72\" x=\"236.922178\" y=\"194.888703\" style=\"fill: #dd8452; stroke: #333333\"/>\n     <use xlink:href=\"#m008e546e72\" x=\"112.346814\" y=\"75.056117\" style=\"fill: #dd8452; stroke: #333333\"/>\n     <use xlink:href=\"#m008e546e72\" x=\"105.407234\" y=\"93.364081\" style=\"fill: #dd8452; stroke: #333333\"/>\n     <use xlink:href=\"#m008e546e72\" x=\"130.973324\" y=\"79.531521\" style=\"fill: #dd8452; stroke: #333333\"/>\n     <use xlink:href=\"#m008e546e72\" x=\"232.138319\" y=\"191.838772\" style=\"fill: #dd8452; stroke: #333333\"/>\n     <use xlink:href=\"#m008e546e72\" x=\"238.102102\" y=\"171.643115\" style=\"fill: #dd8452; stroke: #333333\"/>\n     <use xlink:href=\"#m008e546e72\" x=\"233.426631\" y=\"197.209258\" style=\"fill: #dd8452; stroke: #333333\"/>\n     <use xlink:href=\"#m008e546e72\" x=\"232.615368\" y=\"183.11632\" style=\"fill: #dd8452; stroke: #333333\"/>\n     <use xlink:href=\"#m008e546e72\" x=\"145.744129\" y=\"86.720533\" style=\"fill: #dd8452; stroke: #333333\"/>\n     <use xlink:href=\"#m008e546e72\" x=\"111.501972\" y=\"72.303721\" style=\"fill: #dd8452; stroke: #333333\"/>\n     <use xlink:href=\"#m008e546e72\" x=\"217.704846\" y=\"168.33091\" style=\"fill: #dd8452; stroke: #333333\"/>\n     <use xlink:href=\"#m008e546e72\" x=\"245.421225\" y=\"193.840345\" style=\"fill: #dd8452; stroke: #333333\"/>\n     <use xlink:href=\"#m008e546e72\" x=\"102.468358\" y=\"62.746394\" style=\"fill: #dd8452; stroke: #333333\"/>\n     <use xlink:href=\"#m008e546e72\" x=\"232.401739\" y=\"188.117204\" style=\"fill: #dd8452; stroke: #333333\"/>\n     <use xlink:href=\"#m008e546e72\" x=\"227.353265\" y=\"181.731965\" style=\"fill: #dd8452; stroke: #333333\"/>\n     <use xlink:href=\"#m008e546e72\" x=\"122.797432\" y=\"72.054022\" style=\"fill: #dd8452; stroke: #333333\"/>\n     <use xlink:href=\"#m008e546e72\" x=\"240.233982\" y=\"201.108157\" style=\"fill: #dd8452; stroke: #333333\"/>\n     <use xlink:href=\"#m008e546e72\" x=\"104.453336\" y=\"63.591244\" style=\"fill: #dd8452; stroke: #333333\"/>\n     <use xlink:href=\"#m008e546e72\" x=\"138.662767\" y=\"76.475524\" style=\"fill: #dd8452; stroke: #333333\"/>\n     <use xlink:href=\"#m008e546e72\" x=\"110.764523\" y=\"70.151182\" style=\"fill: #dd8452; stroke: #333333\"/>\n     <use xlink:href=\"#m008e546e72\" x=\"133.199404\" y=\"97.259027\" style=\"fill: #dd8452; stroke: #333333\"/>\n     <use xlink:href=\"#m008e546e72\" x=\"108.343623\" y=\"100.369132\" style=\"fill: #dd8452; stroke: #333333\"/>\n     <use xlink:href=\"#m008e546e72\" x=\"249.001723\" y=\"187.816562\" style=\"fill: #dd8452; stroke: #333333\"/>\n     <use xlink:href=\"#m008e546e72\" x=\"250.401686\" y=\"203.94069\" style=\"fill: #dd8452; stroke: #333333\"/>\n     <use xlink:href=\"#m008e546e72\" x=\"125.722111\" y=\"78.120646\" style=\"fill: #dd8452; stroke: #333333\"/>\n     <use xlink:href=\"#m008e546e72\" x=\"106.999635\" y=\"70.332796\" style=\"fill: #dd8452; stroke: #333333\"/>\n     <use xlink:href=\"#m008e546e72\" x=\"226.645835\" y=\"200.382684\" style=\"fill: #dd8452; stroke: #333333\"/>\n     <use xlink:href=\"#m008e546e72\" x=\"120.768608\" y=\"67.167513\" style=\"fill: #dd8452; stroke: #333333\"/>\n     <use xlink:href=\"#m008e546e72\" x=\"115.584097\" y=\"86.5495\" style=\"fill: #dd8452; stroke: #333333\"/>\n     <use xlink:href=\"#m008e546e72\" x=\"231.156842\" y=\"200.116892\" style=\"fill: #dd8452; stroke: #333333\"/>\n     <use xlink:href=\"#m008e546e72\" x=\"224.585035\" y=\"186.265516\" style=\"fill: #dd8452; stroke: #333333\"/>\n     <use xlink:href=\"#m008e546e72\" x=\"231.098102\" y=\"191.088236\" style=\"fill: #dd8452; stroke: #333333\"/>\n     <use xlink:href=\"#m008e546e72\" x=\"128.273474\" y=\"69.358873\" style=\"fill: #dd8452; stroke: #333333\"/>\n     <use xlink:href=\"#m008e546e72\" x=\"118.41382\" y=\"103.281828\" style=\"fill: #dd8452; stroke: #333333\"/>\n     <use xlink:href=\"#m008e546e72\" x=\"215.543154\" y=\"173.482223\" style=\"fill: #dd8452; stroke: #333333\"/>\n     <use xlink:href=\"#m008e546e72\" x=\"223.957177\" y=\"204.408074\" style=\"fill: #dd8452; stroke: #333333\"/>\n     <use xlink:href=\"#m008e546e72\" x=\"122.321454\" y=\"87.308044\" style=\"fill: #dd8452; stroke: #333333\"/>\n     <use xlink:href=\"#m008e546e72\" x=\"138.351994\" y=\"71.782684\" style=\"fill: #dd8452; stroke: #333333\"/>\n     <use xlink:href=\"#m008e546e72\" x=\"111.754739\" y=\"93.090609\" style=\"fill: #dd8452; stroke: #333333\"/>\n     <use xlink:href=\"#m008e546e72\" x=\"242.61305\" y=\"167.466514\" style=\"fill: #dd8452; stroke: #333333\"/>\n     <use xlink:href=\"#m008e546e72\" x=\"216.836277\" y=\"182.395922\" style=\"fill: #dd8452; stroke: #333333\"/>\n     <use xlink:href=\"#m008e546e72\" x=\"114.249269\" y=\"83.159373\" style=\"fill: #dd8452; stroke: #333333\"/>\n     <use xlink:href=\"#m008e546e72\" x=\"225.77513\" y=\"198.218055\" style=\"fill: #dd8452; stroke: #333333\"/>\n     <use xlink:href=\"#m008e546e72\" x=\"229.69414\" y=\"198.701191\" style=\"fill: #dd8452; stroke: #333333\"/>\n     <use xlink:href=\"#m008e546e72\" x=\"115.068353\" y=\"69.382348\" style=\"fill: #dd8452; stroke: #333333\"/>\n     <use xlink:href=\"#m008e546e72\" x=\"103.417404\" y=\"77.224954\" style=\"fill: #dd8452; stroke: #333333\"/>\n     <use xlink:href=\"#m008e546e72\" x=\"235.223397\" y=\"198.665188\" style=\"fill: #dd8452; stroke: #333333\"/>\n     <use xlink:href=\"#m008e546e72\" x=\"239.424305\" y=\"207.061059\" style=\"fill: #dd8452; stroke: #333333\"/>\n     <use xlink:href=\"#m008e546e72\" x=\"225.116032\" y=\"188.112569\" style=\"fill: #dd8452; stroke: #333333\"/>\n     <use xlink:href=\"#m008e546e72\" x=\"111.92333\" y=\"82.022076\" style=\"fill: #dd8452; stroke: #333333\"/>\n     <use xlink:href=\"#m008e546e72\" x=\"127.86217\" y=\"80.009495\" style=\"fill: #dd8452; stroke: #333333\"/>\n     <use xlink:href=\"#m008e546e72\" x=\"233.303704\" y=\"190.364274\" style=\"fill: #dd8452; stroke: #333333\"/>\n    </g>\n   </g>\n   <g id=\"patch_3\">\n    <path d=\"M 66.023594 244.078125 \nL 66.023594 22.318125 \n\" style=\"fill: none; stroke: #ffffff; stroke-width: 1.25; stroke-linejoin: miter; stroke-linecap: square\"/>\n   </g>\n   <g id=\"patch_4\">\n    <path d=\"M 287.783594 244.078125 \nL 287.783594 22.318125 \n\" style=\"fill: none; stroke: #ffffff; stroke-width: 1.25; stroke-linejoin: miter; stroke-linecap: square\"/>\n   </g>\n   <g id=\"patch_5\">\n    <path d=\"M 66.023594 244.078125 \nL 287.783594 244.078125 \n\" style=\"fill: none; stroke: #ffffff; stroke-width: 1.25; stroke-linejoin: miter; stroke-linecap: square\"/>\n   </g>\n   <g id=\"patch_6\">\n    <path d=\"M 66.023594 22.318125 \nL 287.783594 22.318125 \n\" style=\"fill: none; stroke: #ffffff; stroke-width: 1.25; stroke-linejoin: miter; stroke-linecap: square\"/>\n   </g>\n   <g id=\"text_17\">\n    <!-- Dataset samples -->\n    <g style=\"fill: #262626\" transform=\"translate(126.560781 16.318125) scale(0.12 -0.12)\">\n     <defs>\n      <path id=\"DejaVuSans-44\" d=\"M 1259 4147 \nL 1259 519 \nL 2022 519 \nQ 2988 519 3436 956 \nQ 3884 1394 3884 2338 \nQ 3884 3275 3436 3711 \nQ 2988 4147 2022 4147 \nL 1259 4147 \nz\nM 628 4666 \nL 1925 4666 \nQ 3281 4666 3915 4102 \nQ 4550 3538 4550 2338 \nQ 4550 1131 3912 565 \nQ 3275 0 1925 0 \nL 628 0 \nL 628 4666 \nz\n\" transform=\"scale(0.015625)\"/>\n      <path id=\"DejaVuSans-61\" d=\"M 2194 1759 \nQ 1497 1759 1228 1600 \nQ 959 1441 959 1056 \nQ 959 750 1161 570 \nQ 1363 391 1709 391 \nQ 2188 391 2477 730 \nQ 2766 1069 2766 1631 \nL 2766 1759 \nL 2194 1759 \nz\nM 3341 1997 \nL 3341 0 \nL 2766 0 \nL 2766 531 \nQ 2569 213 2275 61 \nQ 1981 -91 1556 -91 \nQ 1019 -91 701 211 \nQ 384 513 384 1019 \nQ 384 1609 779 1909 \nQ 1175 2209 1959 2209 \nL 2766 2209 \nL 2766 2266 \nQ 2766 2663 2505 2880 \nQ 2244 3097 1772 3097 \nQ 1472 3097 1187 3025 \nQ 903 2953 641 2809 \nL 641 3341 \nQ 956 3463 1253 3523 \nQ 1550 3584 1831 3584 \nQ 2591 3584 2966 3190 \nQ 3341 2797 3341 1997 \nz\n\" transform=\"scale(0.015625)\"/>\n      <path id=\"DejaVuSans-74\" d=\"M 1172 4494 \nL 1172 3500 \nL 2356 3500 \nL 2356 3053 \nL 1172 3053 \nL 1172 1153 \nQ 1172 725 1289 603 \nQ 1406 481 1766 481 \nL 2356 481 \nL 2356 0 \nL 1766 0 \nQ 1100 0 847 248 \nQ 594 497 594 1153 \nL 594 3053 \nL 172 3053 \nL 172 3500 \nL 594 3500 \nL 594 4494 \nL 1172 4494 \nz\n\" transform=\"scale(0.015625)\"/>\n      <path id=\"DejaVuSans-73\" d=\"M 2834 3397 \nL 2834 2853 \nQ 2591 2978 2328 3040 \nQ 2066 3103 1784 3103 \nQ 1356 3103 1142 2972 \nQ 928 2841 928 2578 \nQ 928 2378 1081 2264 \nQ 1234 2150 1697 2047 \nL 1894 2003 \nQ 2506 1872 2764 1633 \nQ 3022 1394 3022 966 \nQ 3022 478 2636 193 \nQ 2250 -91 1575 -91 \nQ 1294 -91 989 -36 \nQ 684 19 347 128 \nL 347 722 \nQ 666 556 975 473 \nQ 1284 391 1588 391 \nQ 1994 391 2212 530 \nQ 2431 669 2431 922 \nQ 2431 1156 2273 1281 \nQ 2116 1406 1581 1522 \nL 1381 1569 \nQ 847 1681 609 1914 \nQ 372 2147 372 2553 \nQ 372 3047 722 3315 \nQ 1072 3584 1716 3584 \nQ 2034 3584 2315 3537 \nQ 2597 3491 2834 3397 \nz\n\" transform=\"scale(0.015625)\"/>\n      <path id=\"DejaVuSans-65\" d=\"M 3597 1894 \nL 3597 1613 \nL 953 1613 \nQ 991 1019 1311 708 \nQ 1631 397 2203 397 \nQ 2534 397 2845 478 \nQ 3156 559 3463 722 \nL 3463 178 \nQ 3153 47 2828 -22 \nQ 2503 -91 2169 -91 \nQ 1331 -91 842 396 \nQ 353 884 353 1716 \nQ 353 2575 817 3079 \nQ 1281 3584 2069 3584 \nQ 2775 3584 3186 3129 \nQ 3597 2675 3597 1894 \nz\nM 3022 2063 \nQ 3016 2534 2758 2815 \nQ 2500 3097 2075 3097 \nQ 1594 3097 1305 2825 \nQ 1016 2553 972 2059 \nL 3022 2063 \nz\n\" transform=\"scale(0.015625)\"/>\n      <path id=\"DejaVuSans-20\" transform=\"scale(0.015625)\"/>\n      <path id=\"DejaVuSans-6d\" d=\"M 3328 2828 \nQ 3544 3216 3844 3400 \nQ 4144 3584 4550 3584 \nQ 5097 3584 5394 3201 \nQ 5691 2819 5691 2113 \nL 5691 0 \nL 5113 0 \nL 5113 2094 \nQ 5113 2597 4934 2840 \nQ 4756 3084 4391 3084 \nQ 3944 3084 3684 2787 \nQ 3425 2491 3425 1978 \nL 3425 0 \nL 2847 0 \nL 2847 2094 \nQ 2847 2600 2669 2842 \nQ 2491 3084 2119 3084 \nQ 1678 3084 1418 2786 \nQ 1159 2488 1159 1978 \nL 1159 0 \nL 581 0 \nL 581 3500 \nL 1159 3500 \nL 1159 2956 \nQ 1356 3278 1631 3431 \nQ 1906 3584 2284 3584 \nQ 2666 3584 2933 3390 \nQ 3200 3197 3328 2828 \nz\n\" transform=\"scale(0.015625)\"/>\n      <path id=\"DejaVuSans-70\" d=\"M 1159 525 \nL 1159 -1331 \nL 581 -1331 \nL 581 3500 \nL 1159 3500 \nL 1159 2969 \nQ 1341 3281 1617 3432 \nQ 1894 3584 2278 3584 \nQ 2916 3584 3314 3078 \nQ 3713 2572 3713 1747 \nQ 3713 922 3314 415 \nQ 2916 -91 2278 -91 \nQ 1894 -91 1617 61 \nQ 1341 213 1159 525 \nz\nM 3116 1747 \nQ 3116 2381 2855 2742 \nQ 2594 3103 2138 3103 \nQ 1681 3103 1420 2742 \nQ 1159 2381 1159 1747 \nQ 1159 1113 1420 752 \nQ 1681 391 2138 391 \nQ 2594 391 2855 752 \nQ 3116 1113 3116 1747 \nz\n\" transform=\"scale(0.015625)\"/>\n      <path id=\"DejaVuSans-6c\" d=\"M 603 4863 \nL 1178 4863 \nL 1178 0 \nL 603 0 \nL 603 4863 \nz\n\" transform=\"scale(0.015625)\"/>\n     </defs>\n     <use xlink:href=\"#DejaVuSans-44\"/>\n     <use xlink:href=\"#DejaVuSans-61\" transform=\"translate(77.001953 0)\"/>\n     <use xlink:href=\"#DejaVuSans-74\" transform=\"translate(138.28125 0)\"/>\n     <use xlink:href=\"#DejaVuSans-61\" transform=\"translate(177.490234 0)\"/>\n     <use xlink:href=\"#DejaVuSans-73\" transform=\"translate(238.769531 0)\"/>\n     <use xlink:href=\"#DejaVuSans-65\" transform=\"translate(290.869141 0)\"/>\n     <use xlink:href=\"#DejaVuSans-74\" transform=\"translate(352.392578 0)\"/>\n     <use xlink:href=\"#DejaVuSans-20\" transform=\"translate(391.601562 0)\"/>\n     <use xlink:href=\"#DejaVuSans-73\" transform=\"translate(423.388672 0)\"/>\n     <use xlink:href=\"#DejaVuSans-61\" transform=\"translate(475.488281 0)\"/>\n     <use xlink:href=\"#DejaVuSans-6d\" transform=\"translate(536.767578 0)\"/>\n     <use xlink:href=\"#DejaVuSans-70\" transform=\"translate(634.179688 0)\"/>\n     <use xlink:href=\"#DejaVuSans-6c\" transform=\"translate(697.65625 0)\"/>\n     <use xlink:href=\"#DejaVuSans-65\" transform=\"translate(725.439453 0)\"/>\n     <use xlink:href=\"#DejaVuSans-73\" transform=\"translate(786.962891 0)\"/>\n    </g>\n   </g>\n   <g id=\"legend_1\">\n    <g id=\"patch_7\">\n     <path d=\"M 73.723594 150.994063 \nL 148.356875 150.994063 \nQ 150.556875 150.994063 150.556875 148.794063 \nL 150.556875 117.602188 \nQ 150.556875 115.402188 148.356875 115.402188 \nL 73.723594 115.402188 \nQ 71.523594 115.402188 71.523594 117.602188 \nL 71.523594 148.794063 \nQ 71.523594 150.994063 73.723594 150.994063 \nz\n\" style=\"fill: #eaeaf2; opacity: 0.8; stroke: #cccccc; stroke-linejoin: miter\"/>\n    </g>\n    <g id=\"PathCollection_3\">\n     <g>\n      <use xlink:href=\"#md937bf3ab0\" x=\"86.923594\" y=\"125.272969\" style=\"fill: #4c72b0; stroke: #333333\"/>\n     </g>\n    </g>\n    <g id=\"text_18\">\n     <!-- Class 0 -->\n     <g style=\"fill: #262626\" transform=\"translate(106.723594 128.160469) scale(0.11 -0.11)\">\n      <defs>\n       <path id=\"DejaVuSans-43\" d=\"M 4122 4306 \nL 4122 3641 \nQ 3803 3938 3442 4084 \nQ 3081 4231 2675 4231 \nQ 1875 4231 1450 3742 \nQ 1025 3253 1025 2328 \nQ 1025 1406 1450 917 \nQ 1875 428 2675 428 \nQ 3081 428 3442 575 \nQ 3803 722 4122 1019 \nL 4122 359 \nQ 3791 134 3420 21 \nQ 3050 -91 2638 -91 \nQ 1578 -91 968 557 \nQ 359 1206 359 2328 \nQ 359 3453 968 4101 \nQ 1578 4750 2638 4750 \nQ 3056 4750 3426 4639 \nQ 3797 4528 4122 4306 \nz\n\" transform=\"scale(0.015625)\"/>\n      </defs>\n      <use xlink:href=\"#DejaVuSans-43\"/>\n      <use xlink:href=\"#DejaVuSans-6c\" transform=\"translate(69.824219 0)\"/>\n      <use xlink:href=\"#DejaVuSans-61\" transform=\"translate(97.607422 0)\"/>\n      <use xlink:href=\"#DejaVuSans-73\" transform=\"translate(158.886719 0)\"/>\n      <use xlink:href=\"#DejaVuSans-73\" transform=\"translate(210.986328 0)\"/>\n      <use xlink:href=\"#DejaVuSans-20\" transform=\"translate(263.085938 0)\"/>\n      <use xlink:href=\"#DejaVuSans-30\" transform=\"translate(294.873047 0)\"/>\n     </g>\n    </g>\n    <g id=\"PathCollection_4\">\n     <g>\n      <use xlink:href=\"#m008e546e72\" x=\"86.923594\" y=\"141.418906\" style=\"fill: #dd8452; stroke: #333333\"/>\n     </g>\n    </g>\n    <g id=\"text_19\">\n     <!-- Class 1 -->\n     <g style=\"fill: #262626\" transform=\"translate(106.723594 144.306406) scale(0.11 -0.11)\">\n      <use xlink:href=\"#DejaVuSans-43\"/>\n      <use xlink:href=\"#DejaVuSans-6c\" transform=\"translate(69.824219 0)\"/>\n      <use xlink:href=\"#DejaVuSans-61\" transform=\"translate(97.607422 0)\"/>\n      <use xlink:href=\"#DejaVuSans-73\" transform=\"translate(158.886719 0)\"/>\n      <use xlink:href=\"#DejaVuSans-73\" transform=\"translate(210.986328 0)\"/>\n      <use xlink:href=\"#DejaVuSans-20\" transform=\"translate(263.085938 0)\"/>\n      <use xlink:href=\"#DejaVuSans-31\" transform=\"translate(294.873047 0)\"/>\n     </g>\n    </g>\n   </g>\n  </g>\n </g>\n <defs>\n  <clipPath id=\"pf7d7c7f2e8\">\n   <rect x=\"66.023594\" y=\"22.318125\" width=\"221.76\" height=\"221.76\"/>\n  </clipPath>\n </defs>\n</svg>\n",
            "application/pdf": "[encoded data removed]"
          },
          "metadata": {}
        }
      ]
    },
    {
      "cell_type": "code",
      "source": [],
      "metadata": {
        "id": "5nnYhvlarQgR"
      },
      "execution_count": null,
      "outputs": []
    }
  ]
}